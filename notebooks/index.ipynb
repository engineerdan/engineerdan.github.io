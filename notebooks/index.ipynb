{
 "cells": [
  {
   "cell_type": "markdown",
   "source": [
    "# Hello\n",
    "\n",
    "This repo contains a [personal](https://www.linkedin.com/in/danphumphreys/) collection of Kotlin code.\n",
    "\n",
    "## Contents\n",
    "\n",
    "[Classes](./classes.html) "
   ],
   "metadata": {
    "collapsed": false
   }
  },
  {
   "cell_type": "markdown",
   "source": [
    "# Main Function\n",
    "\n",
    "The entry point to a program is the main function, however for Kotlin notebooks - and since they run as a Kotlin script - functions with any names will run in cells.  In a normal Kotlin project this function will run however in a Kotlin notebook it needs to be invoked."
   ],
   "metadata": {
    "collapsed": false
   }
  },
  {
   "cell_type": "code",
   "outputs": [
    {
     "name": "stdout",
     "output_type": "stream",
     "text": [
      "example of a main function\r\n"
     ]
    }
   ],
   "source": [
    "fun main() {\n",
    "    println(\"example of a main function\")\n",
    "}\n",
    "main()"
   ],
   "metadata": {
    "collapsed": false,
    "ExecuteTime": {
     "end_time": "2024-01-23T20:08:12.444533800Z",
     "start_time": "2024-01-23T20:08:11.912102100Z"
    }
   },
   "execution_count": 1
  },
  {
   "cell_type": "markdown",
   "source": [
    "# Functions\n",
    "\n",
    "Functions contain a function name, parenthesis, arguments and return type and followed by curly brackets in which the function body is contained.  Arguments are defined as `name: Type`."
   ],
   "metadata": {
    "collapsed": false
   }
  },
  {
   "cell_type": "code",
   "outputs": [
    {
     "name": "stdout",
     "output_type": "stream",
     "text": [
      "3\r\n"
     ]
    }
   ],
   "source": [
    "fun add(a: Int, b: Int): Int {\n",
    "    return a + b\n",
    "}\n",
    "println(add(1, 2))"
   ],
   "metadata": {
    "collapsed": false,
    "ExecuteTime": {
     "end_time": "2024-01-23T20:08:12.696327500Z",
     "start_time": "2024-01-23T20:08:12.414309500Z"
    }
   },
   "execution_count": 2
  },
  {
   "cell_type": "markdown",
   "source": [
    "Functions can be defined as expressions.  According to [Wikipedia](https://en.wikipedia.org/wiki/Expression_(computer_science)):\n",
    "\n",
    "_\"It is a combination of one or more constants, variables, functions, and operators that the programming language interprets (according to its particular rules of precedence and of association) and computes to produce (\"to return\", in a stateful environment) another value.\"_\n",
    "\n",
    "Therefore the `add` function can also be defined as:"
   ],
   "metadata": {
    "collapsed": false
   }
  },
  {
   "cell_type": "code",
   "outputs": [
    {
     "name": "stdout",
     "output_type": "stream",
     "text": [
      "3\r\n"
     ]
    }
   ],
   "source": [
    "fun add(a: Int, b: Int): Int = a + b\n",
    "println(add(1, 2))"
   ],
   "metadata": {
    "collapsed": false,
    "ExecuteTime": {
     "end_time": "2024-01-23T20:08:12.897465100Z",
     "start_time": "2024-01-23T20:08:12.675030400Z"
    }
   },
   "execution_count": 3
  },
  {
   "cell_type": "markdown",
   "source": [
    "It can be seen that `return` is not required and that the return type is also optional.  When the return type is not specified, it is [inferred](https://kotlinlang.org/spec/type-inference.html#function-signature-type-inference) by Kotlin."
   ],
   "metadata": {
    "collapsed": false
   }
  },
  {
   "cell_type": "code",
   "outputs": [
    {
     "name": "stdout",
     "output_type": "stream",
     "text": [
      "3\r\n"
     ]
    }
   ],
   "source": [
    "fun add(a: Int, b: Int) = a + b\n",
    "println(add(1, 2))"
   ],
   "metadata": {
    "collapsed": false,
    "ExecuteTime": {
     "end_time": "2024-01-23T20:08:13.074745Z",
     "start_time": "2024-01-23T20:08:12.868769200Z"
    }
   },
   "execution_count": 4
  },
  {
   "cell_type": "markdown",
   "source": [
    "# Variables\n",
    "\n",
    "`val` defines an immutable (i.e. read-only) variable that can be assigned a value only once:"
   ],
   "metadata": {
    "collapsed": false
   }
  },
  {
   "cell_type": "code",
   "outputs": [],
   "source": [
    "val name = \"Dan\""
   ],
   "metadata": {
    "collapsed": false,
    "ExecuteTime": {
     "end_time": "2024-01-23T20:08:13.439230800Z",
     "start_time": "2024-01-23T20:08:13.073285Z"
    }
   },
   "execution_count": 5
  },
  {
   "cell_type": "markdown",
   "source": [
    "Attempting to redefine a `val` results in a `val cannot be reassigned` error:"
   ],
   "metadata": {
    "collapsed": false
   }
  },
  {
   "cell_type": "code",
   "outputs": [
    {
     "name": "stderr",
     "output_type": "stream",
     "text": [
      "Line_6.jupyter.kts (1:1 - 5) Val cannot be reassigned"
     ]
    }
   ],
   "source": [
    "name = \"Daniel\""
   ],
   "metadata": {
    "collapsed": false,
    "ExecuteTime": {
     "end_time": "2024-01-23T20:08:13.755915600Z",
     "start_time": "2024-01-23T20:08:13.387125100Z"
    }
   },
   "execution_count": 6
  },
  {
   "cell_type": "markdown",
   "source": [
    "`var` defines a mutable variable that can be reassigned :"
   ],
   "metadata": {
    "collapsed": false
   }
  },
  {
   "cell_type": "code",
   "outputs": [],
   "source": [
    "var age = 45\n",
    "age = 46"
   ],
   "metadata": {
    "collapsed": false,
    "ExecuteTime": {
     "end_time": "2024-01-23T20:08:14.526793900Z",
     "start_time": "2024-01-23T20:08:13.659106900Z"
    }
   },
   "execution_count": 7
  },
  {
   "cell_type": "markdown",
   "source": [
    "Trying to reassign it using a different type results in a `Type mismatch: inferred type is String but Int was expected` error:"
   ],
   "metadata": {
    "collapsed": false
   }
  },
  {
   "cell_type": "code",
   "outputs": [
    {
     "name": "stderr",
     "output_type": "stream",
     "text": [
      "Line_8.jupyter.kts (1:7 - 19) Type mismatch: inferred type is String but Int was expected"
     ]
    }
   ],
   "source": [
    "age = \"forty five\""
   ],
   "metadata": {
    "collapsed": false,
    "ExecuteTime": {
     "end_time": "2024-01-23T20:08:14.639611400Z",
     "start_time": "2024-01-23T20:08:13.806172700Z"
    }
   },
   "execution_count": 8
  },
  {
   "cell_type": "markdown",
   "source": [
    "# Classes\n",
    "\n",
    "Classes are defined using the `class` keyword; parenthesis are optional:"
   ],
   "metadata": {
    "collapsed": false
   }
  },
  {
   "cell_type": "code",
   "outputs": [],
   "source": [
    "class Shape"
   ],
   "metadata": {
    "collapsed": false,
    "ExecuteTime": {
     "end_time": "2024-01-23T20:08:14.680753500Z",
     "start_time": "2024-01-23T20:08:13.862366Z"
    }
   },
   "execution_count": 9
  },
  {
   "cell_type": "markdown",
   "source": [
    "# Properties\n",
    "\n",
    "Properties can be defined in its declaration, with keyword, name and types; curly brackets containing the class body are optional:"
   ],
   "metadata": {
    "collapsed": false
   }
  },
  {
   "cell_type": "code",
   "outputs": [],
   "source": [
    "class Shape(val height: Double, val length: Double)"
   ],
   "metadata": {
    "collapsed": false,
    "ExecuteTime": {
     "end_time": "2024-01-23T20:08:14.691084100Z",
     "start_time": "2024-01-23T20:08:14.055546200Z"
    }
   },
   "execution_count": 10
  },
  {
   "cell_type": "markdown",
   "source": [
    "When parameters are defined in the class definition, there is no need to define a constructor since it is available automatically\n"
   ],
   "metadata": {
    "collapsed": false
   }
  },
  {
   "cell_type": "code",
   "outputs": [
    {
     "name": "stdout",
     "output_type": "stream",
     "text": [
      "5.0\r\n",
      "10.0\r\n"
     ]
    }
   ],
   "source": [
    "val rectangle = Shape(5.0, 10.0)\n",
    "println(rectangle.height)\n",
    "println(rectangle.length)"
   ],
   "metadata": {
    "collapsed": false,
    "ExecuteTime": {
     "end_time": "2024-01-23T20:08:14.749177600Z",
     "start_time": "2024-01-23T20:08:14.153042800Z"
    }
   },
   "execution_count": 11
  },
  {
   "cell_type": "markdown",
   "source": [
    "Omitting a variable type will result in a `Parameters must have the type annotation` error:"
   ],
   "metadata": {
    "collapsed": false
   }
  },
  {
   "cell_type": "code",
   "outputs": [
    {
     "name": "stderr",
     "output_type": "stream",
     "text": [
      "Line_12.jupyter.kts (1:23 - 23) Parameters must have type annotation"
     ]
    }
   ],
   "source": [
    "class Shape(val height, val length: Double)"
   ],
   "metadata": {
    "collapsed": false,
    "ExecuteTime": {
     "start_time": "2024-01-23T20:08:14.530157800Z"
    }
   },
   "execution_count": 12
  },
  {
   "cell_type": "markdown",
   "source": [
    "However, the variable keywords are optional:"
   ],
   "metadata": {
    "collapsed": false
   }
  },
  {
   "cell_type": "code",
   "outputs": [],
   "source": [
    "class Shape(height: Double, val length: Double)"
   ],
   "metadata": {
    "collapsed": false,
    "ExecuteTime": {
     "end_time": "2024-01-23T20:08:15.291022800Z",
     "start_time": "2024-01-23T20:08:14.556667800Z"
    }
   },
   "execution_count": 13
  },
  {
   "cell_type": "markdown",
   "source": [
    "When a variable keyword is used in the class definition the variable can be accessed within the class, whereas variables without a keyword cannot.  This is why the following class definition results in `Parameter 'height' is never used` and `Unresolved reference: height` errors:"
   ],
   "metadata": {
    "collapsed": false
   }
  },
  {
   "cell_type": "code",
   "outputs": [
    {
     "name": "stderr",
     "output_type": "stream",
     "text": [
      "Line_14.jupyter.kts (1:13 - 19) Parameter 'height' is never used\n",
      "Line_14.jupyter.kts (3:23 - 29) Unresolved reference: height"
     ]
    }
   ],
   "source": [
    "class Shape(height: Double, val length: Double) {\n",
    "    fun getlength() = length\n",
    "    fun getHeight() = height\n",
    "}"
   ],
   "metadata": {
    "collapsed": false,
    "ExecuteTime": {
     "end_time": "2024-01-23T20:08:15.389286400Z",
     "start_time": "2024-01-23T20:08:14.661572200Z"
    }
   },
   "execution_count": 14
  },
  {
   "cell_type": "markdown",
   "source": [
    "However the property can be acessed in the class body:"
   ],
   "metadata": {
    "collapsed": false
   }
  },
  {
   "cell_type": "code",
   "outputs": [
    {
     "name": "stdout",
     "output_type": "stream",
     "text": [
      "10.0\r\n",
      "5.0\r\n"
     ]
    }
   ],
   "source": [
    "class Shape(height: Double, val length: Double) {\n",
    "    val anotherLength = length\n",
    "    val anotherHeight = height\n",
    "}\n",
    "val shape = Shape(5.0, 10.0)\n",
    "println(shape.anotherLength)\n",
    "println(shape.anotherHeight)"
   ],
   "metadata": {
    "collapsed": false,
    "ExecuteTime": {
     "end_time": "2024-01-23T20:08:15.483081400Z",
     "start_time": "2024-01-23T20:08:14.748113100Z"
    }
   },
   "execution_count": 15
  },
  {
   "cell_type": "markdown",
   "source": [
    "Or in a class init block like this:\n"
   ],
   "metadata": {
    "collapsed": false
   }
  },
  {
   "cell_type": "code",
   "outputs": [
    {
     "name": "stdout",
     "output_type": "stream",
     "text": [
      "5.0\r\n"
     ]
    }
   ],
   "source": [
    "class Shape(height: Double, val length: Double) {\n",
    "    init {\n",
    "        println(height)\n",
    "    }\n",
    "}\n",
    "val shape = Shape(5.0, 10.0)"
   ],
   "metadata": {
    "collapsed": false,
    "ExecuteTime": {
     "end_time": "2024-01-23T20:08:15.697780200Z",
     "start_time": "2024-01-23T20:08:14.965226300Z"
    }
   },
   "execution_count": 16
  },
  {
   "cell_type": "markdown",
   "source": [
    "## Classes are final by default"
   ],
   "metadata": {
    "collapsed": false
   }
  },
  {
   "cell_type": "markdown",
   "source": [],
   "metadata": {
    "collapsed": false
   }
  },
  {
   "cell_type": "markdown",
   "source": [
    "Classes are final by default and therefore there is no difference between the following definitions:"
   ],
   "metadata": {
    "collapsed": false
   }
  },
  {
   "cell_type": "code",
   "outputs": [],
   "source": [
    "class Shape\n",
    "final class Shape"
   ],
   "metadata": {
    "collapsed": false,
    "ExecuteTime": {
     "end_time": "2024-01-23T20:08:15.731323500Z",
     "start_time": "2024-01-23T20:08:15.123067700Z"
    }
   },
   "execution_count": 17
  },
  {
   "cell_type": "code",
   "outputs": [],
   "source": [],
   "metadata": {
    "collapsed": false,
    "ExecuteTime": {
     "end_time": "2024-01-23T20:08:15.761045600Z",
     "start_time": "2024-01-23T20:08:15.207275100Z"
    }
   },
   "execution_count": 18
  },
  {
   "cell_type": "markdown",
   "source": [
    "Final means they cannot be superclasses and other classes cannot inherit from them.  Attempting to inherite from final classes results in an `This type is final, so it cannot be inherited from` error. Inheritance is specified using a colon then the superclass name with parentheses."
   ],
   "metadata": {
    "collapsed": false
   }
  },
  {
   "cell_type": "code",
   "outputs": [
    {
     "name": "stderr",
     "output_type": "stream",
     "text": [
      "Line_18.jupyter.kts (1:18 - 23) This type is final, so it cannot be inherited from"
     ]
    }
   ],
   "source": [
    "class Rectangle: Shape()"
   ],
   "metadata": {
    "collapsed": false,
    "ExecuteTime": {
     "start_time": "2024-01-23T20:08:15.217385600Z"
    }
   },
   "execution_count": 19
  },
  {
   "cell_type": "markdown",
   "source": [
    "# Comments\n",
    "\n",
    "Comments start with // for a single line or /* ... */ for a multiple line (block) comment. "
   ],
   "metadata": {
    "collapsed": false
   }
  },
  {
   "cell_type": "code",
   "outputs": [],
   "source": [
    "// this is a comment\n",
    "/* this is\n",
    "another comment */"
   ],
   "metadata": {
    "collapsed": false,
    "ExecuteTime": {
     "end_time": "2024-01-23T20:08:15.797911300Z",
     "start_time": "2024-01-23T20:08:15.261317500Z"
    }
   },
   "execution_count": 20
  },
  {
   "cell_type": "markdown",
   "source": [
    "# String Templates\n",
    "\n",
    "A string template is a small piece of code that is evaluated and can form part of a string, for example:"
   ],
   "metadata": {
    "collapsed": false
   }
  },
  {
   "cell_type": "code",
   "outputs": [
    {
     "name": "stdout",
     "output_type": "stream",
     "text": [
      "The capital of the United Kingdom is London.\r\n"
     ]
    }
   ],
   "source": [
    "val capital = \"London\"\n",
    "println(\"The capital of the United Kingdom is $capital.\")\n"
   ],
   "metadata": {
    "collapsed": false,
    "ExecuteTime": {
     "end_time": "2024-01-23T20:08:16.003756100Z",
     "start_time": "2024-01-23T20:08:15.347369900Z"
    }
   },
   "execution_count": 21
  },
  {
   "cell_type": "markdown",
   "source": [
    "Curly brackets are required if an expression is used:"
   ],
   "metadata": {
    "collapsed": false
   }
  },
  {
   "cell_type": "code",
   "outputs": [
    {
     "name": "stdout",
     "output_type": "stream",
     "text": [
      "There are 6 letters in the word London.\r\n"
     ]
    }
   ],
   "source": [
    "println(\"There are ${capital.length} letters in the word $capital.\")"
   ],
   "metadata": {
    "collapsed": false,
    "ExecuteTime": {
     "end_time": "2024-01-23T20:08:16.415278900Z",
     "start_time": "2024-01-23T20:08:15.592014100Z"
    }
   },
   "execution_count": 22
  },
  {
   "cell_type": "markdown",
   "source": [
    "# String Escaping\n",
    "\n",
    "A backslash can be used to escape a double quote or backslash character:"
   ],
   "metadata": {
    "collapsed": false
   }
  },
  {
   "cell_type": "code",
   "outputs": [
    {
     "name": "stdout",
     "output_type": "stream",
     "text": [
      "double quote: \" \n",
      "backslash: \\\r\n"
     ]
    }
   ],
   "source": [
    "println(\"double quote: \\\" \\nbackslash: \\\\\")"
   ],
   "metadata": {
    "collapsed": false,
    "ExecuteTime": {
     "end_time": "2024-01-23T20:08:16.480918300Z",
     "start_time": "2024-01-23T20:08:15.738519700Z"
    }
   },
   "execution_count": 23
  },
  {
   "cell_type": "markdown",
   "source": [
    "# Conditional Expressions\n",
    "\n",
    "`if` statements are created as follows: "
   ],
   "metadata": {
    "collapsed": false
   }
  },
  {
   "cell_type": "code",
   "outputs": [
    {
     "name": "stdout",
     "output_type": "stream",
     "text": [
      "10 is bigger than 1\r\n"
     ]
    }
   ],
   "source": [
    "val a = 10\n",
    "val b = 1\n",
    "if (a > b) {\n",
    "    println(\"$a is bigger than $b\")\n",
    "} else {\n",
    "    println(\"$a is not bigger than $b\")\n",
    "}"
   ],
   "metadata": {
    "collapsed": false,
    "ExecuteTime": {
     "end_time": "2024-01-23T20:08:16.551261800Z",
     "start_time": "2024-01-23T20:08:15.849887300Z"
    }
   },
   "execution_count": 24
  },
  {
   "cell_type": "markdown",
   "source": [
    "`if` statements can also be used directly in function expression statements:"
   ],
   "metadata": {
    "collapsed": false
   }
  },
  {
   "cell_type": "code",
   "outputs": [
    {
     "name": "stdout",
     "output_type": "stream",
     "text": [
      "10 is bigger than 1\r\n"
     ]
    }
   ],
   "source": [
    "fun aBiggerThanB(a: Int, b: Int) = if (a > b) {\n",
    "    println(\"$a is bigger than $b\")\n",
    "} else {\n",
    "    println(\"$a is not bigger than $b\")\n",
    "}\n",
    "aBiggerThanB(10, 1)"
   ],
   "metadata": {
    "collapsed": false,
    "ExecuteTime": {
     "end_time": "2024-01-23T20:08:16.798679600Z",
     "start_time": "2024-01-23T20:08:16.210828Z"
    }
   },
   "execution_count": 25
  },
  {
   "cell_type": "markdown",
   "source": [
    "And also directly in an expression:"
   ],
   "metadata": {
    "collapsed": false
   }
  },
  {
   "cell_type": "code",
   "outputs": [
    {
     "name": "stdout",
     "output_type": "stream",
     "text": [
      "10 is bigger than 1\r\n"
     ]
    }
   ],
   "source": [
    "val isABiggerThanB = if (a > b) \"$a is bigger than $b\" else \"$a is not bigger than $b\"\n",
    "println(isABiggerThanB)"
   ],
   "metadata": {
    "collapsed": false,
    "ExecuteTime": {
     "end_time": "2024-01-23T20:08:16.861032200Z",
     "start_time": "2024-01-23T20:08:16.432238700Z"
    }
   },
   "execution_count": 26
  },
  {
   "cell_type": "markdown",
   "source": [
    "# For loops\n",
    "\n",
    "For loops in Kotlin are created with a condition in parentheses and the loop logic in curly brackets:"
   ],
   "metadata": {
    "collapsed": false
   }
  },
  {
   "cell_type": "code",
   "outputs": [
    {
     "name": "stdout",
     "output_type": "stream",
     "text": [
      "UK\r\n",
      "Spain\r\n",
      "France\r\n",
      "Germany\r\n"
     ]
    }
   ],
   "source": [
    "val countries = listOf(\"UK\", \"Spain\", \"France\", \"Germany\")\n",
    "for (country in countries) {\n",
    "    println(country)    \n",
    "}"
   ],
   "metadata": {
    "collapsed": false,
    "ExecuteTime": {
     "end_time": "2024-01-23T20:08:17.111153400Z",
     "start_time": "2024-01-23T20:08:16.602547900Z"
    }
   },
   "execution_count": 27
  },
  {
   "cell_type": "markdown",
   "source": [
    "This `for` can be expressed as a single line:"
   ],
   "metadata": {
    "collapsed": false
   }
  },
  {
   "cell_type": "code",
   "outputs": [
    {
     "name": "stdout",
     "output_type": "stream",
     "text": [
      "UK\r\n",
      "Spain\r\n",
      "France\r\n",
      "Germany\r\n"
     ]
    }
   ],
   "source": [
    "for (country in countries) println(country)"
   ],
   "metadata": {
    "collapsed": false,
    "ExecuteTime": {
     "end_time": "2024-01-23T20:08:17.227522700Z",
     "start_time": "2024-01-23T20:08:16.850796300Z"
    }
   },
   "execution_count": 28
  },
  {
   "cell_type": "markdown",
   "source": [
    "A for loop can loop through the indices:"
   ],
   "metadata": {
    "collapsed": false
   }
  },
  {
   "cell_type": "code",
   "outputs": [
    {
     "name": "stdout",
     "output_type": "stream",
     "text": [
      "0\r\n",
      "1\r\n",
      "2\r\n",
      "3\r\n"
     ]
    }
   ],
   "source": [
    "for (index in countries.indices) {\n",
    "    println(index)\n",
    "}"
   ],
   "metadata": {
    "collapsed": false,
    "ExecuteTime": {
     "end_time": "2024-01-23T20:08:17.526383Z",
     "start_time": "2024-01-23T20:08:16.961990900Z"
    }
   },
   "execution_count": 29
  },
  {
   "cell_type": "markdown",
   "source": [
    "# while loops\n",
    "\n",
    "While loops are defined as follows where the condition is in the parentheses and the loop content follows in curly brackets:\n"
   ],
   "metadata": {
    "collapsed": false
   }
  },
  {
   "cell_type": "code",
   "outputs": [
    {
     "name": "stdout",
     "output_type": "stream",
     "text": [
      "UK\r\n",
      "Spain\r\n",
      "France\r\n",
      "Germany\r\n"
     ]
    }
   ],
   "source": [
    "var i = 0\n",
    "\n",
    "while (i < countries.size) {\n",
    "    println(countries[i])\n",
    "    i ++\n",
    "}"
   ],
   "metadata": {
    "collapsed": false,
    "ExecuteTime": {
     "end_time": "2024-01-23T20:12:07.971092300Z",
     "start_time": "2024-01-23T20:12:07.772942900Z"
    }
   },
   "execution_count": 36
  },
  {
   "cell_type": "code",
   "outputs": [
    {
     "name": "stdout",
     "output_type": "stream",
     "text": [
      "Hello!\r\n",
      "Hola!\r\n",
      "Bonjour!\r\n",
      "Hallo!\r\n"
     ]
    }
   ],
   "source": [
    "for (country in countries) {\n",
    "    when (country) {\n",
    "        \"UK\" -> println(\"Hello!\")\n",
    "        \"Spain\" -> println(\"Hola!\")\n",
    "        \"France\" -> println(\"Bonjour!\")\n",
    "        \"Germany\" -> println(\"Hallo!\")\n",
    "    }\n",
    "}"
   ],
   "metadata": {
    "collapsed": false,
    "ExecuteTime": {
     "end_time": "2024-01-23T21:05:39.228994600Z",
     "start_time": "2024-01-23T21:05:39.014661200Z"
    }
   },
   "execution_count": 39
  },
  {
   "cell_type": "markdown",
   "source": [
    "# Ranges\n",
    "\n",
    "Range in Kotlin can be generated using `..`."
   ],
   "metadata": {
    "collapsed": false
   }
  },
  {
   "cell_type": "code",
   "outputs": [
    {
     "name": "stdout",
     "output_type": "stream",
     "text": [
      "true\r\n",
      "true\r\n"
     ]
    }
   ],
   "source": [
    "println(5 in 1..10)\n",
    "println(\"r\" in \"a\"..\"z\")"
   ],
   "metadata": {
    "collapsed": false,
    "ExecuteTime": {
     "end_time": "2024-01-23T21:12:55.650491800Z",
     "start_time": "2024-01-23T21:12:55.481720800Z"
    }
   },
   "execution_count": 46
  },
  {
   "cell_type": "markdown",
   "source": [
    "`step` can be used to define a step:"
   ],
   "metadata": {
    "collapsed": false
   }
  },
  {
   "cell_type": "code",
   "outputs": [
    {
     "name": "stdout",
     "output_type": "stream",
     "text": [
      "true\r\n"
     ]
    }
   ],
   "source": [
    "println(3 !in 0..10 step 2)"
   ],
   "metadata": {
    "collapsed": false,
    "ExecuteTime": {
     "end_time": "2024-01-23T21:14:12.021871700Z",
     "start_time": "2024-01-23T21:14:11.857784500Z"
    }
   },
   "execution_count": 48
  },
  {
   "cell_type": "markdown",
   "source": [
    "`downTo` can be used to generate reducing ranges:"
   ],
   "metadata": {
    "collapsed": false
   }
  },
  {
   "cell_type": "code",
   "outputs": [
    {
     "name": "stdout",
     "output_type": "stream",
     "text": [
      "true\r\n"
     ]
    }
   ],
   "source": [
    "println(4 !in 10 downTo -2 step 4)"
   ],
   "metadata": {
    "collapsed": false,
    "ExecuteTime": {
     "end_time": "2024-01-23T21:17:03.957886800Z",
     "start_time": "2024-01-23T21:17:03.799515400Z"
    }
   },
   "execution_count": 49
  },
  {
   "cell_type": "markdown",
   "source": [
    "# Collections\n",
    "\n",
    "Looping through collections (a group of items):"
   ],
   "metadata": {
    "collapsed": false
   }
  },
  {
   "cell_type": "code",
   "outputs": [
    {
     "name": "stdout",
     "output_type": "stream",
     "text": [
      "UK\r\n",
      "Spain\r\n",
      "France\r\n",
      "Germany\r\n"
     ]
    }
   ],
   "source": [
    "for (country in countries) println(country)"
   ],
   "metadata": {
    "collapsed": false,
    "ExecuteTime": {
     "end_time": "2024-01-23T21:19:29.469750900Z",
     "start_time": "2024-01-23T21:19:29.336439200Z"
    }
   },
   "execution_count": 51
  },
  {
   "cell_type": "markdown",
   "source": [
    "Check if an item is in a collection:"
   ],
   "metadata": {
    "collapsed": false
   }
  },
  {
   "cell_type": "code",
   "outputs": [
    {
     "name": "stdout",
     "output_type": "stream",
     "text": [
      "true\r\n"
     ]
    }
   ],
   "source": [
    "println(\"Iceland\" !in countries)"
   ],
   "metadata": {
    "collapsed": false,
    "ExecuteTime": {
     "end_time": "2024-01-23T21:21:24.661260800Z",
     "start_time": "2024-01-23T21:21:24.554832700Z"
    }
   },
   "execution_count": 52
  },
  {
   "cell_type": "markdown",
   "source": [
    "Filter a collection:"
   ],
   "metadata": {
    "collapsed": false
   }
  },
  {
   "cell_type": "code",
   "outputs": [
    {
     "name": "stdout",
     "output_type": "stream",
     "text": [
      "[Spain, France, Germany]\r\n"
     ]
    }
   ],
   "source": [
    "val countriesWithA = countries.filter({it.contains(\"a\")})\n",
    "println(countriesWithA)"
   ],
   "metadata": {
    "collapsed": false,
    "ExecuteTime": {
     "end_time": "2024-01-23T21:30:50.436833100Z",
     "start_time": "2024-01-23T21:30:50.238267Z"
    }
   },
   "execution_count": 54
  },
  {
   "cell_type": "markdown",
   "source": [
    "Apply a function to every element in the collection (using `map`):"
   ],
   "metadata": {
    "collapsed": false
   }
  },
  {
   "cell_type": "code",
   "outputs": [
    {
     "name": "stdout",
     "output_type": "stream",
     "text": [
      "[UK, SPAIN, FRANCE, GERMANY]\r\n"
     ]
    }
   ],
   "source": [
    "val uppercaseCountries = countries.map({it.uppercase()})\n",
    "println(uppercaseCountries)"
   ],
   "metadata": {
    "collapsed": false,
    "ExecuteTime": {
     "end_time": "2024-01-23T21:31:55.464930900Z",
     "start_time": "2024-01-23T21:31:55.168341900Z"
    }
   },
   "execution_count": 55
  },
  {
   "cell_type": "code",
   "outputs": [],
   "source": [],
   "metadata": {
    "collapsed": false
   }
  },
  {
   "cell_type": "markdown",
   "source": [
    "# Nullable Types\n",
    "\n",
    "Variables in Kotlin can be explicitly marked as being nullable using `?` after specifying the type:"
   ],
   "metadata": {
    "collapsed": false
   }
  },
  {
   "cell_type": "code",
   "outputs": [],
   "source": [
    "var canBeNull:String? = \"not null\"\n",
    "canBeNull = null"
   ],
   "metadata": {
    "collapsed": false,
    "ExecuteTime": {
     "end_time": "2024-01-23T21:37:41.729166500Z",
     "start_time": "2024-01-23T21:37:41.611075Z"
    }
   },
   "execution_count": 61
  },
  {
   "cell_type": "markdown",
   "source": [
    "# Type Checking and Automatic Casting\n",
    "\n",
    "After confirming an object type there is no need to cast an object to the type before calling a type specific method:"
   ],
   "metadata": {
    "collapsed": false
   }
  },
  {
   "cell_type": "code",
   "outputs": [
    {
     "name": "stdout",
     "output_type": "stream",
     "text": [
      "3\r\n"
     ]
    }
   ],
   "source": [
    "if (name is String) {\n",
    "    println(name.length)\n",
    "}"
   ],
   "metadata": {
    "collapsed": false,
    "ExecuteTime": {
     "end_time": "2024-01-23T21:59:16.396899200Z",
     "start_time": "2024-01-23T21:59:16.272767400Z"
    }
   },
   "execution_count": 62
  }
 ],
 "metadata": {
  "kernelspec": {
   "display_name": "Kotlin",
   "language": "kotlin",
   "name": "kotlin"
  },
  "language_info": {
   "name": "kotlin",
   "version": "1.9.0",
   "mimetype": "text/x-kotlin",
   "file_extension": ".kt",
   "pygments_lexer": "kotlin",
   "codemirror_mode": "text/x-kotlin",
   "nbconvert_exporter": ""
  }
 },
 "nbformat": 4,
 "nbformat_minor": 0
}
