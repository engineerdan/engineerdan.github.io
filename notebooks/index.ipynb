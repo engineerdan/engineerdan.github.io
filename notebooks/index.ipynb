{
 "cells": [
  {
   "cell_type": "markdown",
   "source": [
    "# Hello\n",
    "\n",
    "This repo contains a [personal](https://www.linkedin.com/in/danphumphreys/) collection of Kotlin code.\n",
    "\n",
    "## Contents\n",
    "\n",
    "[Classes](./classes.html) "
   ],
   "metadata": {
    "collapsed": false
   }
  },
  {
   "cell_type": "markdown",
   "source": [
    "# Main Function\n",
    "\n",
    "The entry point to a program is the main function, however for Kotlin notebooks - and since they run as a Kotlin script - functions with any names will run in cells.  In a normal Kotlin project this function will run however in a Kotlin notebook it needs to be invoked."
   ],
   "metadata": {
    "collapsed": false
   }
  },
  {
   "cell_type": "code",
   "outputs": [
    {
     "name": "stdout",
     "output_type": "stream",
     "text": [
      "example of a main function\r\n"
     ]
    }
   ],
   "source": [
    "fun main() {\n",
    "    println(\"example of a main function\")\n",
    "}\n",
    "main()"
   ],
   "metadata": {
    "collapsed": false,
    "ExecuteTime": {
     "end_time": "2024-01-25T11:09:30.479862500Z",
     "start_time": "2024-01-25T11:09:29.431388400Z"
    }
   },
   "execution_count": 40
  },
  {
   "cell_type": "markdown",
   "source": [
    "# Functions\n",
    "\n",
    "Functions contain a function name, parenthesis, arguments and return type and followed by curly brackets in which the function body is contained.  Arguments are defined as `name: Type`."
   ],
   "metadata": {
    "collapsed": false
   }
  },
  {
   "cell_type": "code",
   "outputs": [
    {
     "name": "stdout",
     "output_type": "stream",
     "text": [
      "3\r\n"
     ]
    }
   ],
   "source": [
    "fun add(a: Int, b: Int): Int {\n",
    "    return a + b\n",
    "}\n",
    "println(add(1, 2))"
   ],
   "metadata": {
    "collapsed": false,
    "ExecuteTime": {
     "end_time": "2024-01-25T11:09:30.725224300Z",
     "start_time": "2024-01-25T11:09:30.476627400Z"
    }
   },
   "execution_count": 41
  },
  {
   "cell_type": "markdown",
   "source": [
    "Functions can be defined as expressions.  According to [Wikipedia](https://en.wikipedia.org/wiki/Expression_(computer_science)):\n",
    "\n",
    "_\"It is a combination of one or more constants, variables, functions, and operators that the programming language interprets (according to its particular rules of precedence and of association) and computes to produce (\"to return\", in a stateful environment) another value.\"_\n",
    "\n",
    "Therefore the `add` function can also be defined as:"
   ],
   "metadata": {
    "collapsed": false
   }
  },
  {
   "cell_type": "code",
   "outputs": [
    {
     "name": "stdout",
     "output_type": "stream",
     "text": [
      "3\r\n"
     ]
    }
   ],
   "source": [
    "fun add(a: Int, b: Int): Int = a + b\n",
    "println(add(1, 2))"
   ],
   "metadata": {
    "collapsed": false,
    "ExecuteTime": {
     "end_time": "2024-01-25T11:09:30.799236700Z",
     "start_time": "2024-01-25T11:09:30.559072200Z"
    }
   },
   "execution_count": 42
  },
  {
   "cell_type": "markdown",
   "source": [
    "It can be seen that `return` is not required and that the return type is also optional.  When the return type is not specified, it is [inferred](https://kotlinlang.org/spec/type-inference.html#function-signature-type-inference) by Kotlin."
   ],
   "metadata": {
    "collapsed": false
   }
  },
  {
   "cell_type": "code",
   "outputs": [
    {
     "name": "stdout",
     "output_type": "stream",
     "text": [
      "3\r\n"
     ]
    }
   ],
   "source": [
    "fun add(a: Int, b: Int) = a + b\n",
    "println(add(1, 2))"
   ],
   "metadata": {
    "collapsed": false,
    "ExecuteTime": {
     "end_time": "2024-01-25T11:09:30.951100900Z",
     "start_time": "2024-01-25T11:09:30.718721500Z"
    }
   },
   "execution_count": 43
  },
  {
   "cell_type": "markdown",
   "source": [
    "# Variables\n",
    "\n",
    "`val` defines an immutable (i.e. read-only) variable that can be assigned a value only once:"
   ],
   "metadata": {
    "collapsed": false
   }
  },
  {
   "cell_type": "code",
   "outputs": [],
   "source": [
    "val name = \"Dan\""
   ],
   "metadata": {
    "collapsed": false,
    "ExecuteTime": {
     "end_time": "2024-01-25T11:09:31.106631700Z",
     "start_time": "2024-01-25T11:09:30.873772200Z"
    }
   },
   "execution_count": 44
  },
  {
   "cell_type": "markdown",
   "source": [
    "Attempting to redefine a `val` results in a `val cannot be reassigned` error:"
   ],
   "metadata": {
    "collapsed": false
   }
  },
  {
   "cell_type": "code",
   "outputs": [
    {
     "name": "stderr",
     "output_type": "stream",
     "text": [
      "Line_44.jupyter.kts (1:1 - 5) Val cannot be reassigned"
     ]
    }
   ],
   "source": [
    "name = \"Daniel\""
   ],
   "metadata": {
    "collapsed": false,
    "ExecuteTime": {
     "end_time": "2024-01-25T11:09:31.234288600Z",
     "start_time": "2024-01-25T11:09:31.083388900Z"
    }
   },
   "execution_count": 45
  },
  {
   "cell_type": "markdown",
   "source": [
    "`var` defines a mutable variable that can be reassigned :"
   ],
   "metadata": {
    "collapsed": false
   }
  },
  {
   "cell_type": "code",
   "outputs": [],
   "source": [
    "var age = 45\n",
    "age = 46"
   ],
   "metadata": {
    "collapsed": false,
    "ExecuteTime": {
     "end_time": "2024-01-25T11:09:31.393946800Z",
     "start_time": "2024-01-25T11:09:31.170537600Z"
    }
   },
   "execution_count": 46
  },
  {
   "cell_type": "markdown",
   "source": [
    "Trying to reassign it using a different type results in a `Type mismatch: inferred type is String but Int was expected` error:"
   ],
   "metadata": {
    "collapsed": false
   }
  },
  {
   "cell_type": "code",
   "outputs": [
    {
     "name": "stderr",
     "output_type": "stream",
     "text": [
      "Line_46.jupyter.kts (1:7 - 19) Type mismatch: inferred type is String but Int was expected"
     ]
    }
   ],
   "source": [
    "age = \"forty five\""
   ],
   "metadata": {
    "collapsed": false,
    "ExecuteTime": {
     "end_time": "2024-01-25T11:09:32.344303800Z",
     "start_time": "2024-01-25T11:09:31.294535600Z"
    }
   },
   "execution_count": 47
  },
  {
   "cell_type": "markdown",
   "source": [
    "## Types\n",
    "\n",
    "### Integers\n",
    "\n",
    "There are four different integer types in Kotlin (byte, short, int and long)."
   ],
   "metadata": {
    "collapsed": false
   }
  },
  {
   "cell_type": "code",
   "outputs": [],
   "source": [
    "val one = 1 // Int\n",
    "val threeBillion = 3000000000 // Long\n",
    "val oneLong = 1L // Long\n",
    "val oneByte: Byte = 1"
   ],
   "metadata": {
    "collapsed": false,
    "ExecuteTime": {
     "end_time": "2024-01-25T11:09:32.513357500Z",
     "start_time": "2024-01-25T11:09:32.326613900Z"
    }
   },
   "execution_count": 48
  },
  {
   "cell_type": "markdown",
   "source": [
    "Min and max values can be found in the [Kotlin Documentation](https://kotlinlang.org/docs/numbers.html#integer-types)."
   ],
   "metadata": {
    "collapsed": false
   }
  },
  {
   "cell_type": "markdown",
   "source": [
    "### Real Numbers\n",
    "\n",
    "There are two types used for real numbers (float and double).  Floats can store numbers with 6-7 decimal points and doubles can store 15-16 decimal places.  An `f` can be used at the end of a float definition to specify that the higher accuracy is required."
   ],
   "metadata": {
    "collapsed": false
   }
  },
  {
   "cell_type": "code",
   "outputs": [],
   "source": [
    "val e = 2.7182818284 // Double\n",
    "val eFloat = 2.7182818284f // Float, actual value is 2.7182817"
   ],
   "metadata": {
    "collapsed": false,
    "ExecuteTime": {
     "end_time": "2024-01-25T11:09:32.578349300Z",
     "start_time": "2024-01-25T11:09:32.412596200Z"
    }
   },
   "execution_count": 49
  },
  {
   "cell_type": "markdown",
   "source": [
    "# Classes\n",
    "\n",
    "Classes are defined using the `class` keyword; parenthesis are optional:"
   ],
   "metadata": {
    "collapsed": false
   }
  },
  {
   "cell_type": "code",
   "outputs": [],
   "source": [
    "class Shape"
   ],
   "metadata": {
    "collapsed": false,
    "ExecuteTime": {
     "end_time": "2024-01-25T11:09:32.727613500Z",
     "start_time": "2024-01-25T11:09:32.541604600Z"
    }
   },
   "execution_count": 50
  },
  {
   "cell_type": "markdown",
   "source": [
    "# Properties\n",
    "\n",
    "Properties can be defined in its declaration, with keyword, name and types; curly brackets containing the class body are optional:"
   ],
   "metadata": {
    "collapsed": false
   }
  },
  {
   "cell_type": "code",
   "outputs": [],
   "source": [
    "class Shape(val height: Double, val length: Double)"
   ],
   "metadata": {
    "collapsed": false,
    "ExecuteTime": {
     "end_time": "2024-01-25T11:09:32.836385900Z",
     "start_time": "2024-01-25T11:09:32.667275700Z"
    }
   },
   "execution_count": 51
  },
  {
   "cell_type": "markdown",
   "source": [
    "When parameters are defined in the class definition, there is no need to define a constructor since it is available automatically\n"
   ],
   "metadata": {
    "collapsed": false
   }
  },
  {
   "cell_type": "code",
   "outputs": [
    {
     "name": "stdout",
     "output_type": "stream",
     "text": [
      "5.0\r\n",
      "10.0\r\n"
     ]
    }
   ],
   "source": [
    "val rectangle = Shape(5.0, 10.0)\n",
    "println(rectangle.height)\n",
    "println(rectangle.length)"
   ],
   "metadata": {
    "collapsed": false,
    "ExecuteTime": {
     "end_time": "2024-01-25T11:09:32.876892800Z",
     "start_time": "2024-01-25T11:09:32.743170800Z"
    }
   },
   "execution_count": 52
  },
  {
   "cell_type": "markdown",
   "source": [
    "Omitting a variable type will result in a `Parameters must have the type annotation` error:"
   ],
   "metadata": {
    "collapsed": false
   }
  },
  {
   "cell_type": "code",
   "outputs": [
    {
     "name": "stderr",
     "output_type": "stream",
     "text": [
      "Line_52.jupyter.kts (1:23 - 23) Parameters must have type annotation"
     ]
    }
   ],
   "source": [
    "class Shape(val height, val length: Double)"
   ],
   "metadata": {
    "collapsed": false,
    "ExecuteTime": {
     "end_time": "2024-01-25T11:09:32.987294100Z",
     "start_time": "2024-01-25T11:09:32.861123900Z"
    }
   },
   "execution_count": 53
  },
  {
   "cell_type": "markdown",
   "source": [
    "However, the variable keywords are optional:"
   ],
   "metadata": {
    "collapsed": false
   }
  },
  {
   "cell_type": "code",
   "outputs": [],
   "source": [
    "class Shape(height: Double, val length: Double)"
   ],
   "metadata": {
    "collapsed": false,
    "ExecuteTime": {
     "end_time": "2024-01-25T11:09:33.151387100Z",
     "start_time": "2024-01-25T11:09:32.904663300Z"
    }
   },
   "execution_count": 54
  },
  {
   "cell_type": "markdown",
   "source": [
    "When a variable keyword is used in the class definition the variable can be accessed within the class, whereas variables without a keyword cannot.  This is why the following class definition results in `Parameter 'height' is never used` and `Unresolved reference: height` errors:"
   ],
   "metadata": {
    "collapsed": false
   }
  },
  {
   "cell_type": "code",
   "outputs": [
    {
     "name": "stderr",
     "output_type": "stream",
     "text": [
      "Line_54.jupyter.kts (1:13 - 19) Parameter 'height' is never used\n",
      "Line_54.jupyter.kts (3:23 - 29) Unresolved reference: height"
     ]
    }
   ],
   "source": [
    "class Shape(height: Double, val length: Double) {\n",
    "    fun getlength() = length\n",
    "    fun getHeight() = height\n",
    "}"
   ],
   "metadata": {
    "collapsed": false,
    "ExecuteTime": {
     "end_time": "2024-01-25T11:09:33.368763200Z",
     "start_time": "2024-01-25T11:09:33.139122300Z"
    }
   },
   "execution_count": 55
  },
  {
   "cell_type": "markdown",
   "source": [
    "However the property can be acessed in the class body:"
   ],
   "metadata": {
    "collapsed": false
   }
  },
  {
   "cell_type": "code",
   "outputs": [
    {
     "name": "stdout",
     "output_type": "stream",
     "text": [
      "10.0\r\n",
      "5.0\r\n"
     ]
    }
   ],
   "source": [
    "class Shape(height: Double, val length: Double) {\n",
    "    val anotherLength = length\n",
    "    val anotherHeight = height\n",
    "}\n",
    "val shape = Shape(5.0, 10.0)\n",
    "println(shape.anotherLength)\n",
    "println(shape.anotherHeight)"
   ],
   "metadata": {
    "collapsed": false,
    "ExecuteTime": {
     "end_time": "2024-01-25T11:09:33.592173700Z",
     "start_time": "2024-01-25T11:09:33.328291400Z"
    }
   },
   "execution_count": 56
  },
  {
   "cell_type": "markdown",
   "source": [
    "Or in a class init block like this:\n"
   ],
   "metadata": {
    "collapsed": false
   }
  },
  {
   "cell_type": "code",
   "outputs": [
    {
     "name": "stdout",
     "output_type": "stream",
     "text": [
      "5.0\r\n"
     ]
    }
   ],
   "source": [
    "class Shape(height: Double, val length: Double) {\n",
    "    init {\n",
    "        println(height)\n",
    "    }\n",
    "}\n",
    "val shape = Shape(5.0, 10.0)"
   ],
   "metadata": {
    "collapsed": false,
    "ExecuteTime": {
     "end_time": "2024-01-25T11:09:33.696310700Z",
     "start_time": "2024-01-25T11:09:33.433193Z"
    }
   },
   "execution_count": 57
  },
  {
   "cell_type": "markdown",
   "source": [
    "## Classes are final by default"
   ],
   "metadata": {
    "collapsed": false
   }
  },
  {
   "cell_type": "markdown",
   "source": [
    "Classes are final by default and therefore there is no difference between the following definitions:"
   ],
   "metadata": {
    "collapsed": false
   }
  },
  {
   "cell_type": "code",
   "outputs": [],
   "source": [
    "class Shape\n",
    "final class Shape"
   ],
   "metadata": {
    "collapsed": false,
    "ExecuteTime": {
     "end_time": "2024-01-25T11:09:34.639449100Z",
     "start_time": "2024-01-25T11:09:33.592173700Z"
    }
   },
   "execution_count": 58
  },
  {
   "cell_type": "markdown",
   "source": [
    "Final means they cannot be superclasses and other classes cannot inherit from them.  Attempting to inherite from final classes results in an `This type is final, so it cannot be inherited from` error. Inheritance is specified using a colon then the superclass name with parentheses."
   ],
   "metadata": {
    "collapsed": false
   }
  },
  {
   "cell_type": "code",
   "outputs": [
    {
     "name": "stderr",
     "output_type": "stream",
     "text": [
      "Line_58.jupyter.kts (1:18 - 23) This type is final, so it cannot be inherited from"
     ]
    }
   ],
   "source": [
    "class Rectangle: Shape()"
   ],
   "metadata": {
    "collapsed": false,
    "ExecuteTime": {
     "end_time": "2024-01-25T11:09:34.925158100Z",
     "start_time": "2024-01-25T11:09:33.778212300Z"
    }
   },
   "execution_count": 59
  },
  {
   "cell_type": "markdown",
   "source": [
    "# Comments\n",
    "\n",
    "Comments start with // for a single line or /* ... */ for a multiple line (block) comment. "
   ],
   "metadata": {
    "collapsed": false
   }
  },
  {
   "cell_type": "code",
   "outputs": [],
   "source": [
    "// this is a comment\n",
    "/* this is\n",
    "another comment */"
   ],
   "metadata": {
    "collapsed": false,
    "ExecuteTime": {
     "end_time": "2024-01-25T11:09:35.441227400Z",
     "start_time": "2024-01-25T11:09:34.876019900Z"
    }
   },
   "execution_count": 60
  },
  {
   "cell_type": "markdown",
   "source": [
    "# String Templates\n",
    "\n",
    "A string template is a small piece of code that is evaluated and can form part of a string, for example:"
   ],
   "metadata": {
    "collapsed": false
   }
  },
  {
   "cell_type": "code",
   "outputs": [
    {
     "name": "stdout",
     "output_type": "stream",
     "text": [
      "The capital of the United Kingdom is London.\r\n"
     ]
    }
   ],
   "source": [
    "val capital = \"London\"\n",
    "println(\"The capital of the United Kingdom is $capital.\")\n"
   ],
   "metadata": {
    "collapsed": false,
    "ExecuteTime": {
     "end_time": "2024-01-25T11:09:36.329436200Z",
     "start_time": "2024-01-25T11:09:35.374329200Z"
    }
   },
   "execution_count": 61
  },
  {
   "cell_type": "markdown",
   "source": [
    "Curly brackets are required if an expression is used:"
   ],
   "metadata": {
    "collapsed": false
   }
  },
  {
   "cell_type": "code",
   "outputs": [
    {
     "name": "stdout",
     "output_type": "stream",
     "text": [
      "There are 6 letters in the word London.\r\n"
     ]
    }
   ],
   "source": [
    "println(\"There are ${capital.length} letters in the word $capital.\")"
   ],
   "metadata": {
    "collapsed": false,
    "ExecuteTime": {
     "end_time": "2024-01-25T11:09:37.002453800Z",
     "start_time": "2024-01-25T11:09:36.261126300Z"
    }
   },
   "execution_count": 62
  },
  {
   "cell_type": "markdown",
   "source": [
    "# String Escaping\n",
    "\n",
    "A backslash can be used to escape a double quote or backslash character:"
   ],
   "metadata": {
    "collapsed": false
   }
  },
  {
   "cell_type": "code",
   "outputs": [
    {
     "name": "stdout",
     "output_type": "stream",
     "text": [
      "double quote: \" \n",
      "backslash: \\\r\n"
     ]
    }
   ],
   "source": [
    "println(\"double quote: \\\" \\nbackslash: \\\\\")"
   ],
   "metadata": {
    "collapsed": false,
    "ExecuteTime": {
     "end_time": "2024-01-25T11:09:37.249121800Z",
     "start_time": "2024-01-25T11:09:36.978090700Z"
    }
   },
   "execution_count": 63
  },
  {
   "cell_type": "markdown",
   "source": [
    "# Conditional Expressions\n",
    "\n",
    "# If Expression\n",
    "\n",
    "`if` statements are created as follows: "
   ],
   "metadata": {
    "collapsed": false
   }
  },
  {
   "cell_type": "code",
   "outputs": [
    {
     "name": "stdout",
     "output_type": "stream",
     "text": [
      "10 is bigger than 1\r\n"
     ]
    }
   ],
   "source": [
    "val a = 10\n",
    "val b = 1\n",
    "if (a > b) {\n",
    "    println(\"$a is bigger than $b\")\n",
    "} else {\n",
    "    println(\"$a is not bigger than $b\")\n",
    "}"
   ],
   "metadata": {
    "collapsed": false,
    "ExecuteTime": {
     "end_time": "2024-01-25T11:09:37.516693200Z",
     "start_time": "2024-01-25T11:09:37.147902100Z"
    }
   },
   "execution_count": 64
  },
  {
   "cell_type": "markdown",
   "source": [
    "`if` statements can also be used directly in function expression statements:"
   ],
   "metadata": {
    "collapsed": false
   }
  },
  {
   "cell_type": "code",
   "outputs": [
    {
     "name": "stdout",
     "output_type": "stream",
     "text": [
      "10 is bigger than 1\r\n"
     ]
    }
   ],
   "source": [
    "fun aBiggerThanB(a: Int, b: Int) = if (a > b) {\n",
    "    println(\"$a is bigger than $b\")\n",
    "} else {\n",
    "    println(\"$a is not bigger than $b\")\n",
    "}\n",
    "aBiggerThanB(10, 1)"
   ],
   "metadata": {
    "collapsed": false,
    "ExecuteTime": {
     "end_time": "2024-01-25T11:09:37.612569100Z",
     "start_time": "2024-01-25T11:09:37.334663500Z"
    }
   },
   "execution_count": 65
  },
  {
   "cell_type": "markdown",
   "source": [
    "And also directly in an expression:"
   ],
   "metadata": {
    "collapsed": false
   }
  },
  {
   "cell_type": "code",
   "outputs": [
    {
     "name": "stdout",
     "output_type": "stream",
     "text": [
      "10 is bigger than 1\r\n"
     ]
    }
   ],
   "source": [
    "val isABiggerThanB = if (a > b) \"$a is bigger than $b\" else \"$a is not bigger than $b\"\n",
    "println(isABiggerThanB)"
   ],
   "metadata": {
    "collapsed": false,
    "ExecuteTime": {
     "end_time": "2024-01-25T11:09:37.934751300Z",
     "start_time": "2024-01-25T11:09:37.587995300Z"
    }
   },
   "execution_count": 66
  },
  {
   "cell_type": "markdown",
   "source": [
    "And with an `else if`:"
   ],
   "metadata": {
    "collapsed": false
   }
  },
  {
   "cell_type": "code",
   "outputs": [
    {
     "name": "stdout",
     "output_type": "stream",
     "text": [
      "10 is bigger than 1\r\n"
     ]
    }
   ],
   "source": [
    "val isABiggerThanB = if (a > b) \"$a is bigger than $b\" else if (a < b) \"$a is less than $b\" else \"$a equals $b\"\n",
    "println(isABiggerThanB)"
   ],
   "metadata": {
    "collapsed": false,
    "ExecuteTime": {
     "end_time": "2024-01-25T11:09:38.188439300Z",
     "start_time": "2024-01-25T11:09:37.873313500Z"
    }
   },
   "execution_count": 67
  },
  {
   "cell_type": "markdown",
   "source": [
    "When using `if` in an expression, `else` condition is mandatory:"
   ],
   "metadata": {
    "collapsed": false
   }
  },
  {
   "cell_type": "code",
   "outputs": [
    {
     "name": "stderr",
     "output_type": "stream",
     "text": [
      "Line_67.jupyter.kts (1:22 - 24) 'if' must have both main and 'else' branches if used as an expression"
     ]
    }
   ],
   "source": [
    "val isABiggerThanB = if (a > b) \"$a is bigger than $b\""
   ],
   "metadata": {
    "collapsed": false,
    "ExecuteTime": {
     "end_time": "2024-01-25T11:09:38.238227100Z",
     "start_time": "2024-01-25T11:09:38.002093800Z"
    }
   },
   "execution_count": 68
  },
  {
   "cell_type": "markdown",
   "source": [
    "# For loops\n",
    "\n",
    "For loops in Kotlin are created with a condition in parentheses and the loop logic in curly brackets:"
   ],
   "metadata": {
    "collapsed": false
   }
  },
  {
   "cell_type": "code",
   "outputs": [
    {
     "name": "stdout",
     "output_type": "stream",
     "text": [
      "UK\r\n",
      "Spain\r\n",
      "France\r\n",
      "Germany\r\n"
     ]
    }
   ],
   "source": [
    "val countries = listOf(\"UK\", \"Spain\", \"France\", \"Germany\")\n",
    "for (country in countries) {\n",
    "    println(country)    \n",
    "}"
   ],
   "metadata": {
    "collapsed": false,
    "ExecuteTime": {
     "end_time": "2024-01-25T11:09:38.640069300Z",
     "start_time": "2024-01-25T11:09:38.228778300Z"
    }
   },
   "execution_count": 69
  },
  {
   "cell_type": "markdown",
   "source": [
    "This `for` can be expressed as a single line:"
   ],
   "metadata": {
    "collapsed": false
   }
  },
  {
   "cell_type": "code",
   "outputs": [
    {
     "name": "stdout",
     "output_type": "stream",
     "text": [
      "UK\r\n",
      "Spain\r\n",
      "France\r\n",
      "Germany\r\n"
     ]
    }
   ],
   "source": [
    "for (country in countries) println(country)"
   ],
   "metadata": {
    "collapsed": false,
    "ExecuteTime": {
     "end_time": "2024-01-25T11:09:38.921833400Z",
     "start_time": "2024-01-25T11:09:38.565424100Z"
    }
   },
   "execution_count": 70
  },
  {
   "cell_type": "markdown",
   "source": [
    "A for loop can loop through the indices:"
   ],
   "metadata": {
    "collapsed": false
   }
  },
  {
   "cell_type": "code",
   "outputs": [
    {
     "name": "stdout",
     "output_type": "stream",
     "text": [
      "0\r\n",
      "1\r\n",
      "2\r\n",
      "3\r\n"
     ]
    }
   ],
   "source": [
    "for (index in countries.indices) {\n",
    "    println(index)\n",
    "}"
   ],
   "metadata": {
    "collapsed": false,
    "ExecuteTime": {
     "end_time": "2024-01-25T11:09:39.269536600Z",
     "start_time": "2024-01-25T11:09:38.690823300Z"
    }
   },
   "execution_count": 71
  },
  {
   "cell_type": "markdown",
   "source": [
    "Or through the index and value:"
   ],
   "metadata": {
    "collapsed": false
   }
  },
  {
   "cell_type": "code",
   "outputs": [
    {
     "name": "stdout",
     "output_type": "stream",
     "text": [
      "UK has index 0\r\n",
      "Spain has index 1\r\n",
      "France has index 2\r\n",
      "Germany has index 3\r\n"
     ]
    }
   ],
   "source": [
    "for ((index, value) in countries.withIndex()) {\n",
    "    println(\"$value has index $index\")\n",
    "}"
   ],
   "metadata": {
    "collapsed": false,
    "ExecuteTime": {
     "end_time": "2024-01-25T11:09:39.309824800Z",
     "start_time": "2024-01-25T11:09:39.033460200Z"
    }
   },
   "execution_count": 72
  },
  {
   "cell_type": "markdown",
   "source": [
    "For loops will iterate over anything that provides an iterator."
   ],
   "metadata": {
    "collapsed": false
   }
  },
  {
   "cell_type": "code",
   "outputs": [],
   "source": [],
   "metadata": {
    "collapsed": false,
    "ExecuteTime": {
     "end_time": "2024-01-25T11:09:39.371965800Z",
     "start_time": "2024-01-25T11:09:39.269536600Z"
    }
   },
   "execution_count": 73
  },
  {
   "cell_type": "code",
   "outputs": [],
   "source": [],
   "metadata": {
    "collapsed": false,
    "ExecuteTime": {
     "end_time": "2024-01-25T11:09:39.558522400Z",
     "start_time": "2024-01-25T11:09:39.359089100Z"
    }
   },
   "execution_count": 74
  },
  {
   "cell_type": "code",
   "outputs": [],
   "source": [],
   "metadata": {
    "collapsed": false,
    "ExecuteTime": {
     "end_time": "2024-01-25T11:09:39.609301700Z",
     "start_time": "2024-01-25T11:09:39.556432200Z"
    }
   },
   "execution_count": 75
  },
  {
   "cell_type": "markdown",
   "source": [
    "# while loops\n",
    "\n",
    "While loops are defined as follows where the condition is in the parentheses and the loop content follows in curly brackets:\n"
   ],
   "metadata": {
    "collapsed": false
   }
  },
  {
   "cell_type": "code",
   "outputs": [
    {
     "name": "stdout",
     "output_type": "stream",
     "text": [
      "UK\r\n",
      "Spain\r\n",
      "France\r\n",
      "Germany\r\n"
     ]
    }
   ],
   "source": [
    "var i = 0\n",
    "\n",
    "while (i < countries.size) {\n",
    "    println(countries[i])\n",
    "    i ++\n",
    "}"
   ],
   "metadata": {
    "collapsed": false,
    "ExecuteTime": {
     "end_time": "2024-01-25T11:09:39.764875400Z",
     "start_time": "2024-01-25T11:09:39.585483400Z"
    }
   },
   "execution_count": 76
  },
  {
   "cell_type": "markdown",
   "source": [
    "# `do-while` loops\n",
    "\n",
    "`do-while` loops are while loops however the difference is that the body is exectuted before checking the condition, however with `while` loops the condition is checked first.  Therefore they are structured like this wih `do {} while ()`."
   ],
   "metadata": {
    "collapsed": false
   }
  },
  {
   "cell_type": "code",
   "outputs": [
    {
     "name": "stdout",
     "output_type": "stream",
     "text": [
      "UK\r\n",
      "Spain\r\n",
      "France\r\n",
      "Germany\r\n"
     ]
    }
   ],
   "source": [
    "i = 0\n",
    "\n",
    "do {\n",
    "    println(countries[i])\n",
    "    i++\n",
    "} while (i < countries.size)"
   ],
   "metadata": {
    "collapsed": false,
    "ExecuteTime": {
     "end_time": "2024-01-25T11:09:40.000548800Z",
     "start_time": "2024-01-25T11:09:39.744404400Z"
    }
   },
   "execution_count": 77
  },
  {
   "cell_type": "markdown",
   "source": [
    "# Break"
   ],
   "metadata": {
    "collapsed": false
   }
  },
  {
   "cell_type": "markdown",
   "source": [
    "# Continue"
   ],
   "metadata": {
    "collapsed": false
   }
  },
  {
   "cell_type": "markdown",
   "source": [
    "# When Expression\n",
    "\n",
    "`when` can be used as a statement:"
   ],
   "metadata": {
    "collapsed": false
   }
  },
  {
   "cell_type": "code",
   "outputs": [
    {
     "name": "stdout",
     "output_type": "stream",
     "text": [
      "Hello!\r\n",
      "Hola!\r\n",
      "Bonjour!\r\n",
      "Hallo!\r\n"
     ]
    }
   ],
   "source": [
    "for (country in countries) {\n",
    "    when (country) {\n",
    "        \"UK\" -> println(\"Hello!\")\n",
    "        \"Spain\" -> println(\"Hola!\")\n",
    "        \"France\" -> println(\"Bonjour!\")\n",
    "        \"Germany\" -> println(\"Hallo!\")\n",
    "    }\n",
    "}"
   ],
   "metadata": {
    "collapsed": false,
    "ExecuteTime": {
     "end_time": "2024-01-25T11:09:40.162905600Z",
     "start_time": "2024-01-25T11:09:39.842751600Z"
    }
   },
   "execution_count": 78
  },
  {
   "cell_type": "markdown",
   "source": [
    "Or as an expression:"
   ],
   "metadata": {
    "collapsed": false
   }
  },
  {
   "cell_type": "code",
   "outputs": [
    {
     "name": "stdout",
     "output_type": "stream",
     "text": [
      "Hello!\r\n",
      "Hola!\r\n",
      "Bonjour!\r\n",
      "Hallo!\r\n"
     ]
    }
   ],
   "source": [
    "fun greeting(country: String) = when (country) {\n",
    "    \"UK\" -> \"Hello!\"\n",
    "    \"Spain\" -> \"Hola!\"\n",
    "    \"France\" -> \"Bonjour!\"\n",
    "    \"Germany\" -> \"Hallo!\"\n",
    "    else -> \"greeting not identified\"\n",
    "}\n",
    "\n",
    "for (country in countries) println(greeting(country))"
   ],
   "metadata": {
    "collapsed": false,
    "ExecuteTime": {
     "end_time": "2024-01-25T11:09:40.218639300Z",
     "start_time": "2024-01-25T11:09:40.000548800Z"
    }
   },
   "execution_count": 79
  },
  {
   "cell_type": "markdown",
   "source": [],
   "metadata": {
    "collapsed": false
   }
  },
  {
   "cell_type": "markdown",
   "source": [
    "The `else` condition is mandatory when `when` is used as an expression unless `enum` or `sealed` classes are used:"
   ],
   "metadata": {
    "collapsed": false
   }
  },
  {
   "cell_type": "code",
   "outputs": [
    {
     "name": "stderr",
     "output_type": "stream",
     "text": [
      "Line_76.jupyter.kts (11:1 - 10) Unresolved reference: Countries\n",
      "Line_76.jupyter.kts (13:17 - 26) Unresolved reference: Countries"
     ]
    }
   ],
   "source": [
    "enum class Country {UK, SPAIN, FRANCE, GERMANY}\n",
    "\n",
    "fun greeting(country: Country) = when (country) {\n",
    "    Country.UK -> \"Hello!\"\n",
    "    Country.SPAIN -> \"Hola!\"\n",
    "    Country.FRANCE -> \"Bonjour!\"\n",
    "    Country.GERMANY -> \"Hallo!\"\n",
    "    //else -> \"greeting not identified\"\n",
    "}\n",
    "\n",
    "Countries.UK\n",
    "\n",
    "for (country in Countries.values()) println(greeting(country.toString()))"
   ],
   "metadata": {
    "collapsed": false,
    "ExecuteTime": {
     "end_time": "2024-01-25T11:09:40.516205600Z",
     "start_time": "2024-01-25T11:09:40.200719100Z"
    }
   },
   "execution_count": 80
  },
  {
   "cell_type": "markdown",
   "source": [
    "### `when` and sealed classes\n",
    "\n",
    "`when` can be for sealed classes in which case every subclass is considered making the check exhaustive:"
   ],
   "metadata": {
    "collapsed": false
   }
  },
  {
   "cell_type": "code",
   "outputs": [
    {
     "name": "stderr",
     "output_type": "stream",
     "text": [
      "Line_77.jupyter.kts (9:5 - 9) 'when' expression must be exhaustive, add necessary 'else' branch\n",
      "Line_77.jupyter.kts (10:22 - 41) The expression is unused\n",
      "Line_77.jupyter.kts (11:21 - 39) The expression is unused\n",
      "Line_77.jupyter.kts (13:1 - 2) A 'return' expression required in a function with a block body ('{...}')"
     ]
    }
   ],
   "source": [
    "sealed class Country\n",
    "class France(): Country()\n",
    "class Spain(): Country()\n",
    "\n",
    "val france: Country = France()\n",
    "val spain: Country = Spain()\n",
    "\n",
    "fun language(country: Country): String {\n",
    "    when (country) {\n",
    "        is France -> \"country is France\"\n",
    "        is Spain -> \"country is Spain\"\n",
    "    }\n",
    "}"
   ],
   "metadata": {
    "collapsed": false,
    "ExecuteTime": {
     "start_time": "2024-01-25T11:09:40.423460400Z"
    }
   },
   "execution_count": 81
  },
  {
   "cell_type": "code",
   "outputs": [
    {
     "name": "stderr",
     "output_type": "stream",
     "text": [
      "Line_78.jupyter.kts (6:5 - 9) 'when' expression must be exhaustive, add necessary 'else' branch"
     ]
    }
   ],
   "source": [
    "sealed class SealedClass\n",
    "class First : SealedClass()\n",
    "class Second : SealedClass()\n",
    "\n",
    "fun test(sealedClass: SealedClass) {\n",
    "    when (sealedClass) {\n",
    "        is First -> println(\"First\")\n",
    "        is Second -> println(\"Second\")\n",
    "    }\n",
    "}\n",
    "\n",
    "fun  main() {\n",
    "    test(First())\n",
    "}"
   ],
   "metadata": {
    "collapsed": false,
    "ExecuteTime": {
     "end_time": "2024-01-25T11:09:40.760511600Z",
     "start_time": "2024-01-25T11:09:40.539539400Z"
    }
   },
   "execution_count": 82
  },
  {
   "cell_type": "code",
   "outputs": [
    {
     "name": "stderr",
     "output_type": "stream",
     "text": [
      "Line_79.jupyter.kts (1:24 - 30) Unresolved reference: France\n",
      "Line_79.jupyter.kts (1:34 - 39) Unresolved reference: Spain\n",
      "Line_79.jupyter.kts (3:12 - 18) Unresolved reference: France\n",
      "Line_79.jupyter.kts (4:12 - 17) Unresolved reference: Spain"
     ]
    }
   ],
   "source": [
    "for (country in listOf(France(), Spain())) {\n",
    "    when (country) {\n",
    "        is France -> println(\"country is France\")\n",
    "        is Spain -> println(\"country is Spain\")\n",
    "    }\n",
    "}"
   ],
   "metadata": {
    "collapsed": false,
    "ExecuteTime": {
     "start_time": "2024-01-25T11:09:40.739111100Z"
    }
   },
   "execution_count": 83
  },
  {
   "cell_type": "markdown",
   "source": [
    "# Ranges\n",
    "\n",
    "Range in Kotlin can be generated using `..`."
   ],
   "metadata": {
    "collapsed": false
   }
  },
  {
   "cell_type": "code",
   "outputs": [
    {
     "name": "stdout",
     "output_type": "stream",
     "text": [
      "true\r\n",
      "true\r\n"
     ]
    }
   ],
   "source": [
    "println(5 in 1..10)\n",
    "println(\"r\" in \"a\"..\"z\")"
   ],
   "metadata": {
    "collapsed": false,
    "ExecuteTime": {
     "end_time": "2024-01-25T11:09:41.261876800Z",
     "start_time": "2024-01-25T11:09:40.955293900Z"
    }
   },
   "execution_count": 84
  },
  {
   "cell_type": "markdown",
   "source": [
    "`step` can be used to define a step:"
   ],
   "metadata": {
    "collapsed": false
   }
  },
  {
   "cell_type": "code",
   "outputs": [
    {
     "name": "stdout",
     "output_type": "stream",
     "text": [
      "true\r\n"
     ]
    }
   ],
   "source": [
    "println(3 !in 0..10 step 2)"
   ],
   "metadata": {
    "collapsed": false,
    "ExecuteTime": {
     "end_time": "2024-01-25T11:09:41.312195Z",
     "start_time": "2024-01-25T11:09:41.056111300Z"
    }
   },
   "execution_count": 85
  },
  {
   "cell_type": "markdown",
   "source": [
    "`downTo` can be used to generate reducing ranges:"
   ],
   "metadata": {
    "collapsed": false
   }
  },
  {
   "cell_type": "code",
   "outputs": [
    {
     "name": "stdout",
     "output_type": "stream",
     "text": [
      "true\r\n"
     ]
    }
   ],
   "source": [
    "println(4 !in 10 downTo -2 step 4)"
   ],
   "metadata": {
    "collapsed": false,
    "ExecuteTime": {
     "end_time": "2024-01-25T11:09:41.682350Z",
     "start_time": "2024-01-25T11:09:41.260809600Z"
    }
   },
   "execution_count": 86
  },
  {
   "cell_type": "markdown",
   "source": [
    "# Collections\n",
    "\n",
    "Looping through collections (a group of items):"
   ],
   "metadata": {
    "collapsed": false
   }
  },
  {
   "cell_type": "code",
   "outputs": [
    {
     "name": "stdout",
     "output_type": "stream",
     "text": [
      "UK\r\n",
      "Spain\r\n",
      "France\r\n",
      "Germany\r\n"
     ]
    }
   ],
   "source": [
    "for (country in countries) println(country)"
   ],
   "metadata": {
    "collapsed": false,
    "ExecuteTime": {
     "end_time": "2024-01-25T11:09:41.757420200Z",
     "start_time": "2024-01-25T11:09:41.430053800Z"
    }
   },
   "execution_count": 87
  },
  {
   "cell_type": "markdown",
   "source": [
    "Check if an item is in a collection:"
   ],
   "metadata": {
    "collapsed": false
   }
  },
  {
   "cell_type": "code",
   "outputs": [
    {
     "name": "stdout",
     "output_type": "stream",
     "text": [
      "true\r\n"
     ]
    }
   ],
   "source": [
    "println(\"Iceland\" !in countries)"
   ],
   "metadata": {
    "collapsed": false,
    "ExecuteTime": {
     "end_time": "2024-01-25T11:09:41.903441400Z",
     "start_time": "2024-01-25T11:09:41.641857200Z"
    }
   },
   "execution_count": 88
  },
  {
   "cell_type": "markdown",
   "source": [
    "Filter a collection:"
   ],
   "metadata": {
    "collapsed": false
   }
  },
  {
   "cell_type": "code",
   "outputs": [
    {
     "name": "stdout",
     "output_type": "stream",
     "text": [
      "[Spain, France, Germany]\r\n"
     ]
    }
   ],
   "source": [
    "val countriesWithA = countries.filter({it.contains(\"a\")})\n",
    "println(countriesWithA)"
   ],
   "metadata": {
    "collapsed": false,
    "ExecuteTime": {
     "end_time": "2024-01-25T11:09:42.245531300Z",
     "start_time": "2024-01-25T11:09:41.835277700Z"
    }
   },
   "execution_count": 89
  },
  {
   "cell_type": "markdown",
   "source": [
    "Apply a function to every element in the collection (using `map`):"
   ],
   "metadata": {
    "collapsed": false
   }
  },
  {
   "cell_type": "code",
   "outputs": [
    {
     "name": "stdout",
     "output_type": "stream",
     "text": [
      "[UK, SPAIN, FRANCE, GERMANY]\r\n"
     ]
    }
   ],
   "source": [
    "val uppercaseCountries = countries.map({it.uppercase()})\n",
    "println(uppercaseCountries)"
   ],
   "metadata": {
    "collapsed": false,
    "ExecuteTime": {
     "end_time": "2024-01-25T11:09:42.488487400Z",
     "start_time": "2024-01-25T11:09:42.137690500Z"
    }
   },
   "execution_count": 90
  },
  {
   "cell_type": "code",
   "outputs": [],
   "source": [],
   "metadata": {
    "collapsed": false,
    "ExecuteTime": {
     "end_time": "2024-01-25T11:09:42.497916700Z",
     "start_time": "2024-01-25T11:09:42.322412400Z"
    }
   },
   "execution_count": 91
  },
  {
   "cell_type": "markdown",
   "source": [
    "# Nullable Types\n",
    "\n",
    "Variables in Kotlin can be explicitly marked as being nullable using `?` after specifying the type:"
   ],
   "metadata": {
    "collapsed": false
   }
  },
  {
   "cell_type": "code",
   "outputs": [],
   "source": [
    "var canBeNull:String? = \"not null\"\n",
    "canBeNull = null"
   ],
   "metadata": {
    "collapsed": false,
    "ExecuteTime": {
     "end_time": "2024-01-25T11:09:42.716412200Z",
     "start_time": "2024-01-25T11:09:42.412328100Z"
    }
   },
   "execution_count": 92
  },
  {
   "cell_type": "markdown",
   "source": [
    "# Type Checking and Automatic Casting\n",
    "\n",
    "After confirming an object type there is no need to cast an object to the type before calling a type specific method:"
   ],
   "metadata": {
    "collapsed": false
   }
  },
  {
   "cell_type": "code",
   "outputs": [
    {
     "name": "stdout",
     "output_type": "stream",
     "text": [
      "3\r\n"
     ]
    }
   ],
   "source": [
    "if (name is String) {\n",
    "    println(name.length)\n",
    "}"
   ],
   "metadata": {
    "collapsed": false,
    "ExecuteTime": {
     "end_time": "2024-01-25T11:09:42.903773300Z",
     "start_time": "2024-01-25T11:09:42.655589400Z"
    }
   },
   "execution_count": 93
  },
  {
   "cell_type": "markdown",
   "source": [
    "# Exceptions\n",
    "\n",
    "Use `throw` to throw an exception:"
   ],
   "metadata": {
    "collapsed": false
   }
  },
  {
   "cell_type": "code",
   "outputs": [
    {
     "name": "stderr",
     "output_type": "stream",
     "text": [
      "Exception thrown\r\n",
      "java.lang.Exception: Exception thrown\r\n",
      "\tat Line_89_jupyter.<init>(Line_89.jupyter.kts:1)\r\n",
      "\tat java.base/jdk.internal.reflect.NativeConstructorAccessorImpl.newInstance0(Native Method)\r\n",
      "\tat java.base/jdk.internal.reflect.NativeConstructorAccessorImpl.newInstance(NativeConstructorAccessorImpl.java:62)\r\n",
      "\tat java.base/jdk.internal.reflect.DelegatingConstructorAccessorImpl.newInstance(DelegatingConstructorAccessorImpl.java:45)\r\n",
      "\tat java.base/java.lang.reflect.Constructor.newInstance(Constructor.java:490)\r\n",
      "\tat kotlin.script.experimental.jvm.BasicJvmScriptEvaluator.evalWithConfigAndOtherScriptsResults(BasicJvmScriptEvaluator.kt:105)\r\n",
      "\tat kotlin.script.experimental.jvm.BasicJvmScriptEvaluator.invoke$suspendImpl(BasicJvmScriptEvaluator.kt:47)\r\n",
      "\tat kotlin.script.experimental.jvm.BasicJvmScriptEvaluator.invoke(BasicJvmScriptEvaluator.kt)\r\n",
      "\tat kotlin.script.experimental.jvm.BasicJvmReplEvaluator.eval(BasicJvmReplEvaluator.kt:49)\r\n",
      "\tat org.jetbrains.kotlinx.jupyter.repl.impl.InternalEvaluatorImpl$eval$resultWithDiagnostics$1.invokeSuspend(InternalEvaluatorImpl.kt:107)\r\n",
      "\tat kotlin.coroutines.jvm.internal.BaseContinuationImpl.resumeWith(ContinuationImpl.kt:33)\r\n",
      "\tat kotlinx.coroutines.DispatchedTask.run(DispatchedTask.kt:106)\r\n",
      "\tat kotlinx.coroutines.EventLoopImplBase.processNextEvent(EventLoop.common.kt:284)\r\n",
      "\tat kotlinx.coroutines.BlockingCoroutine.joinBlocking(Builders.kt:85)\r\n",
      "\tat kotlinx.coroutines.BuildersKt__BuildersKt.runBlocking(Builders.kt:59)\r\n",
      "\tat kotlinx.coroutines.BuildersKt.runBlocking(Unknown Source)\r\n",
      "\tat kotlinx.coroutines.BuildersKt__BuildersKt.runBlocking$default(Builders.kt:38)\r\n",
      "\tat kotlinx.coroutines.BuildersKt.runBlocking$default(Unknown Source)\r\n",
      "\tat org.jetbrains.kotlinx.jupyter.repl.impl.InternalEvaluatorImpl.eval(InternalEvaluatorImpl.kt:107)\r\n",
      "\tat org.jetbrains.kotlinx.jupyter.repl.impl.CellExecutorImpl$execute$1$result$1.invoke(CellExecutorImpl.kt:75)\r\n",
      "\tat org.jetbrains.kotlinx.jupyter.repl.impl.CellExecutorImpl$execute$1$result$1.invoke(CellExecutorImpl.kt:73)\r\n",
      "\tat org.jetbrains.kotlinx.jupyter.ReplForJupyterImpl.withHost(repl.kt:690)\r\n",
      "\tat org.jetbrains.kotlinx.jupyter.repl.impl.CellExecutorImpl.execute(CellExecutorImpl.kt:73)\r\n",
      "\tat org.jetbrains.kotlinx.jupyter.repl.CellExecutor$DefaultImpls.execute$default(CellExecutor.kt:14)\r\n",
      "\tat org.jetbrains.kotlinx.jupyter.ReplForJupyterImpl$evalEx$1.invoke(repl.kt:500)\r\n",
      "\tat org.jetbrains.kotlinx.jupyter.ReplForJupyterImpl$evalEx$1.invoke(repl.kt:478)\r\n",
      "\tat org.jetbrains.kotlinx.jupyter.ReplForJupyterImpl.withEvalContext(repl.kt:441)\r\n",
      "\tat org.jetbrains.kotlinx.jupyter.ReplForJupyterImpl.evalEx(repl.kt:478)\r\n",
      "\tat org.jetbrains.kotlinx.jupyter.messaging.ProtocolKt$shellMessagesHandler$2$res$1.invoke(protocol.kt:320)\r\n",
      "\tat org.jetbrains.kotlinx.jupyter.messaging.ProtocolKt$shellMessagesHandler$2$res$1.invoke(protocol.kt:314)\r\n",
      "\tat org.jetbrains.kotlinx.jupyter.JupyterExecutorImpl$runExecution$execThread$1.invoke(execution.kt:38)\r\n",
      "\tat org.jetbrains.kotlinx.jupyter.JupyterExecutorImpl$runExecution$execThread$1.invoke(execution.kt:33)\r\n",
      "\tat kotlin.concurrent.ThreadsKt$thread$thread$1.run(Thread.kt:30)\r\n"
     ]
    }
   ],
   "source": [
    "throw Exception(\"Exception thrown\")"
   ],
   "metadata": {
    "collapsed": false,
    "ExecuteTime": {
     "end_time": "2024-01-25T11:09:42.963575Z",
     "start_time": "2024-01-25T11:09:42.791001800Z"
    }
   },
   "execution_count": 94
  },
  {
   "cell_type": "markdown",
   "source": [
    "Every exception has a message, a stack trace and a cause.  Exceptions can be caught using `catch`.  There must be at least one `catch` or `finally`.\n",
    "\n",
    "Since `try` is an expression it has a return value, the value returned will be the last expression in the try or the last expression in the catch."
   ],
   "metadata": {
    "collapsed": false
   }
  },
  {
   "cell_type": "code",
   "outputs": [
    {
     "name": "stdout",
     "output_type": "stream",
     "text": [
      "java.lang.ArithmeticException: / by zero\r\n",
      "Result of try is: last expression in catch\r\n"
     ]
    }
   ],
   "source": [
    "val tryResult = try {\n",
    "    println(1/0)\n",
    "} catch (e: ArithmeticException) {\n",
    "    println(e)\n",
    "    \"last expression in catch\"\n",
    "}\n",
    "println(\"Result of try is: $tryResult\")"
   ],
   "metadata": {
    "collapsed": false,
    "ExecuteTime": {
     "end_time": "2024-01-25T11:09:43.282419500Z",
     "start_time": "2024-01-25T11:09:42.922877100Z"
    }
   },
   "execution_count": 95
  },
  {
   "cell_type": "markdown",
   "source": [],
   "metadata": {
    "collapsed": false
   }
  },
  {
   "cell_type": "markdown",
   "source": [
    "The value returned is either the last expression in the try block or the last expression in the catch block.  The contents of the finally block don't affect the result of the expression."
   ],
   "metadata": {
    "collapsed": false
   }
  },
  {
   "cell_type": "markdown",
   "source": [
    "# Nothing Type\n",
    "\n",
    "`throw` is an expression and therefore it can be used in an Elvis operator, it returns `Nothing` type:"
   ],
   "metadata": {
    "collapsed": false
   }
  },
  {
   "cell_type": "code",
   "outputs": [
    {
     "name": "stderr",
     "output_type": "stream",
     "text": [
      "Line_91.jupyter.kts (2:5 - 6) 'Nothing' property type needs to be specified explicitly"
     ]
    }
   ],
   "source": [
    "val nullValue = null\n",
    "val s = nullValue ?: throw Exception(\"exception thrown\")"
   ],
   "metadata": {
    "collapsed": false,
    "ExecuteTime": {
     "end_time": "2024-01-25T11:09:43.429945800Z",
     "start_time": "2024-01-25T11:09:43.216543Z"
    }
   },
   "execution_count": 96
  },
  {
   "cell_type": "markdown",
   "source": [
    "It can be used for functions which never return:"
   ],
   "metadata": {
    "collapsed": false
   }
  },
  {
   "cell_type": "code",
   "outputs": [
    {
     "name": "stderr",
     "output_type": "stream",
     "text": [
      "exception thrown\r\n",
      "java.lang.Exception: exception thrown\r\n",
      "\tat Line_92_jupyter.neverReturn(Line_92.jupyter.kts:2)\r\n",
      "\tat Line_92_jupyter.<init>(Line_92.jupyter.kts:4)\r\n",
      "\tat java.base/jdk.internal.reflect.NativeConstructorAccessorImpl.newInstance0(Native Method)\r\n",
      "\tat java.base/jdk.internal.reflect.NativeConstructorAccessorImpl.newInstance(NativeConstructorAccessorImpl.java:62)\r\n",
      "\tat java.base/jdk.internal.reflect.DelegatingConstructorAccessorImpl.newInstance(DelegatingConstructorAccessorImpl.java:45)\r\n",
      "\tat java.base/java.lang.reflect.Constructor.newInstance(Constructor.java:490)\r\n",
      "\tat kotlin.script.experimental.jvm.BasicJvmScriptEvaluator.evalWithConfigAndOtherScriptsResults(BasicJvmScriptEvaluator.kt:105)\r\n",
      "\tat kotlin.script.experimental.jvm.BasicJvmScriptEvaluator.invoke$suspendImpl(BasicJvmScriptEvaluator.kt:47)\r\n",
      "\tat kotlin.script.experimental.jvm.BasicJvmScriptEvaluator.invoke(BasicJvmScriptEvaluator.kt)\r\n",
      "\tat kotlin.script.experimental.jvm.BasicJvmReplEvaluator.eval(BasicJvmReplEvaluator.kt:49)\r\n",
      "\tat org.jetbrains.kotlinx.jupyter.repl.impl.InternalEvaluatorImpl$eval$resultWithDiagnostics$1.invokeSuspend(InternalEvaluatorImpl.kt:107)\r\n",
      "\tat kotlin.coroutines.jvm.internal.BaseContinuationImpl.resumeWith(ContinuationImpl.kt:33)\r\n",
      "\tat kotlinx.coroutines.DispatchedTask.run(DispatchedTask.kt:106)\r\n",
      "\tat kotlinx.coroutines.EventLoopImplBase.processNextEvent(EventLoop.common.kt:284)\r\n",
      "\tat kotlinx.coroutines.BlockingCoroutine.joinBlocking(Builders.kt:85)\r\n",
      "\tat kotlinx.coroutines.BuildersKt__BuildersKt.runBlocking(Builders.kt:59)\r\n",
      "\tat kotlinx.coroutines.BuildersKt.runBlocking(Unknown Source)\r\n",
      "\tat kotlinx.coroutines.BuildersKt__BuildersKt.runBlocking$default(Builders.kt:38)\r\n",
      "\tat kotlinx.coroutines.BuildersKt.runBlocking$default(Unknown Source)\r\n",
      "\tat org.jetbrains.kotlinx.jupyter.repl.impl.InternalEvaluatorImpl.eval(InternalEvaluatorImpl.kt:107)\r\n",
      "\tat org.jetbrains.kotlinx.jupyter.repl.impl.CellExecutorImpl$execute$1$result$1.invoke(CellExecutorImpl.kt:75)\r\n",
      "\tat org.jetbrains.kotlinx.jupyter.repl.impl.CellExecutorImpl$execute$1$result$1.invoke(CellExecutorImpl.kt:73)\r\n",
      "\tat org.jetbrains.kotlinx.jupyter.ReplForJupyterImpl.withHost(repl.kt:690)\r\n",
      "\tat org.jetbrains.kotlinx.jupyter.repl.impl.CellExecutorImpl.execute(CellExecutorImpl.kt:73)\r\n",
      "\tat org.jetbrains.kotlinx.jupyter.repl.CellExecutor$DefaultImpls.execute$default(CellExecutor.kt:14)\r\n",
      "\tat org.jetbrains.kotlinx.jupyter.ReplForJupyterImpl$evalEx$1.invoke(repl.kt:500)\r\n",
      "\tat org.jetbrains.kotlinx.jupyter.ReplForJupyterImpl$evalEx$1.invoke(repl.kt:478)\r\n",
      "\tat org.jetbrains.kotlinx.jupyter.ReplForJupyterImpl.withEvalContext(repl.kt:441)\r\n",
      "\tat org.jetbrains.kotlinx.jupyter.ReplForJupyterImpl.evalEx(repl.kt:478)\r\n",
      "\tat org.jetbrains.kotlinx.jupyter.messaging.ProtocolKt$shellMessagesHandler$2$res$1.invoke(protocol.kt:320)\r\n",
      "\tat org.jetbrains.kotlinx.jupyter.messaging.ProtocolKt$shellMessagesHandler$2$res$1.invoke(protocol.kt:314)\r\n",
      "\tat org.jetbrains.kotlinx.jupyter.JupyterExecutorImpl$runExecution$execThread$1.invoke(execution.kt:38)\r\n",
      "\tat org.jetbrains.kotlinx.jupyter.JupyterExecutorImpl$runExecution$execThread$1.invoke(execution.kt:33)\r\n",
      "\tat kotlin.concurrent.ThreadsKt$thread$thread$1.run(Thread.kt:30)\r\n"
     ]
    }
   ],
   "source": [
    "fun neverReturn(): Nothing {\n",
    "    throw Exception(\"exception thrown\")\n",
    "}\n",
    "neverReturn()"
   ],
   "metadata": {
    "collapsed": false,
    "ExecuteTime": {
     "start_time": "2024-01-25T11:09:43.311415700Z"
    }
   },
   "execution_count": 97
  },
  {
   "cell_type": "markdown",
   "source": [
    "The `Nothing` type has no values.  The nullable type `Nothing?` has only one possible value `null`.  If a variable is set to have a `null` value then the type is actually `Nothing?`:"
   ],
   "metadata": {
    "collapsed": false
   }
  },
  {
   "cell_type": "code",
   "outputs": [
    {
     "name": "stdout",
     "output_type": "stream",
     "text": [
      "true\r\n"
     ]
    }
   ],
   "source": [
    "val nothing = null\n",
    "println(nothing is Nothing?)"
   ],
   "metadata": {
    "collapsed": false,
    "ExecuteTime": {
     "end_time": "2024-01-25T11:09:43.805917400Z",
     "start_time": "2024-01-25T11:09:43.544153400Z"
    }
   },
   "execution_count": 98
  },
  {
   "cell_type": "markdown",
   "source": [
    "# Packages\n",
    "\n",
    "Kotlin code can be organised into packages as:"
   ],
   "metadata": {
    "collapsed": false
   }
  },
  {
   "cell_type": "code",
   "outputs": [
    {
     "name": "stderr",
     "output_type": "stream",
     "text": [
      "Front-end Internal error: Failed to analyze declaration Line_94_jupyter\n",
      "File being compiled: (1,20) in Line_94.jupyter.kts\n",
      "The root cause org.jetbrains.kotlin.resolve.lazy.NoDescriptorForDeclarationException was thrown at: org.jetbrains.kotlin.resolve.lazy.BasicAbsentDescriptorHandler.diagnoseDescriptorNotFound(AbsentDescriptorHandler.kt:18)"
     ]
    }
   ],
   "source": [
    "package com.example"
   ],
   "metadata": {
    "collapsed": false,
    "ExecuteTime": {
     "end_time": "2024-01-25T11:09:43.824909600Z",
     "start_time": "2024-01-25T11:09:43.766732Z"
    }
   },
   "execution_count": 99
  },
  {
   "cell_type": "markdown",
   "source": [
    "Single names or everything in the package can be imported:"
   ],
   "metadata": {
    "collapsed": false
   }
  },
  {
   "cell_type": "code",
   "outputs": [
    {
     "name": "stderr",
     "output_type": "stream",
     "text": [
      "Line_95.jupyter.kts (1:20 - 23) Unresolved reference: foo"
     ]
    }
   ],
   "source": [
    "import com.example.foo\n",
    "import com.example.*"
   ],
   "metadata": {
    "collapsed": false,
    "ExecuteTime": {
     "start_time": "2024-01-25T11:09:43.822744300Z"
    }
   },
   "execution_count": 100
  },
  {
   "cell_type": "code",
   "outputs": [],
   "source": [],
   "metadata": {
    "collapsed": false,
    "ExecuteTime": {
     "end_time": "2024-01-25T11:09:44.075427800Z",
     "start_time": "2024-01-25T11:09:43.984194300Z"
    }
   },
   "execution_count": 101
  }
 ],
 "metadata": {
  "kernelspec": {
   "display_name": "Kotlin",
   "language": "kotlin",
   "name": "kotlin"
  },
  "language_info": {
   "name": "kotlin",
   "version": "1.9.0",
   "mimetype": "text/x-kotlin",
   "file_extension": ".kt",
   "pygments_lexer": "kotlin",
   "codemirror_mode": "text/x-kotlin",
   "nbconvert_exporter": ""
  }
 },
 "nbformat": 4,
 "nbformat_minor": 0
}
