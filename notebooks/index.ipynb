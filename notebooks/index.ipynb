{
 "cells": [
  {
   "cell_type": "markdown",
   "source": [
    "# Hello\n",
    "\n",
    "A blog by [Dan Humphreys](https://www.linkedin.com/in/danphumphreys/).  Mostly Kotlin at the moment since I currently work as a Kotlin developer with the Ministry of Justice.\n",
    "\n",
    "## Contents\n",
    "\n",
    "[Classes](./classes.html) "
   ],
   "metadata": {
    "collapsed": false
   }
  },
  {
   "cell_type": "code",
   "outputs": [],
   "source": [],
   "metadata": {
    "collapsed": false,
    "ExecuteTime": {
     "end_time": "2024-01-12T14:04:54.177077300Z",
     "start_time": "2024-01-12T14:04:54.160443200Z"
    }
   },
   "execution_count": 4
  }
 ],
 "metadata": {
  "kernelspec": {
   "display_name": "Kotlin",
   "language": "kotlin",
   "name": "kotlin"
  },
  "language_info": {
   "name": "kotlin",
   "version": "1.9.0",
   "mimetype": "text/x-kotlin",
   "file_extension": ".kt",
   "pygments_lexer": "kotlin",
   "codemirror_mode": "text/x-kotlin",
   "nbconvert_exporter": ""
  }
 },
 "nbformat": 4,
 "nbformat_minor": 0
}
