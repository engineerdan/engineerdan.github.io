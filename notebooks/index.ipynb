{
 "cells": [
  {
   "cell_type": "markdown",
   "source": [
    "# Hello\n",
    "\n",
    "This repo contains a [personal](https://www.linkedin.com/in/danphumphreys/) collection of Kotlin code.\n",
    "\n",
    "## Contents\n",
    "\n",
    "[Classes](./classes.html) "
   ],
   "metadata": {
    "collapsed": false
   }
  },
  {
   "cell_type": "markdown",
   "source": [
    "# Main Function\n",
    "\n",
    "The entry point to a program is the main function, however for Kotlin notebooks - and since they run as a Kotlin script - functions with any names will run in cells.  In a normal Kotlin project this function will run however in a Kotlin notebook it needs to be invoked."
   ],
   "metadata": {
    "collapsed": false
   }
  },
  {
   "cell_type": "code",
   "outputs": [],
   "source": [
    "fun main() {\n",
    "    println(\"example of a main function\")\n",
    "}\n",
    "main()"
   ],
   "metadata": {
    "collapsed": false
   },
   "execution_count": null
  },
  {
   "cell_type": "markdown",
   "source": [
    "# Functions\n",
    "\n",
    "Functions contain a function name, parenthesis, arguments and return type and followed by curly brackets in which the function body is contained.  Arguments are defined as `name: Type`."
   ],
   "metadata": {
    "collapsed": false
   }
  },
  {
   "cell_type": "code",
   "outputs": [],
   "source": [
    "fun add(a: Int, b: Int): Int {\n",
    "    return a + b\n",
    "}\n",
    "println(add(1, 2))"
   ],
   "metadata": {
    "collapsed": false
   },
   "execution_count": null
  },
  {
   "cell_type": "markdown",
   "source": [
    "Functions can be defined as expressions.  According to [Wikipedia](https://en.wikipedia.org/wiki/Expression_(computer_science)):\n",
    "\n",
    "_\"It is a combination of one or more constants, variables, functions, and operators that the programming language interprets (according to its particular rules of precedence and of association) and computes to produce (\"to return\", in a stateful environment) another value.\"_\n",
    "\n",
    "Therefore the `add` function can also be defined as:"
   ],
   "metadata": {
    "collapsed": false
   }
  },
  {
   "cell_type": "code",
   "outputs": [],
   "source": [
    "fun add(a: Int, b: Int): Int = a + b\n",
    "println(add(1, 2))"
   ],
   "metadata": {
    "collapsed": false
   },
   "execution_count": null
  },
  {
   "cell_type": "markdown",
   "source": [
    "It can be seen that `return` is not required and that the return type is also optional.  When the return type is not specified, it is [inferred](https://kotlinlang.org/spec/type-inference.html#function-signature-type-inference) by Kotlin."
   ],
   "metadata": {
    "collapsed": false
   }
  },
  {
   "cell_type": "code",
   "outputs": [],
   "source": [
    "fun add(a: Int, b: Int) = a + b\n",
    "println(add(1, 2))"
   ],
   "metadata": {
    "collapsed": false
   },
   "execution_count": null
  },
  {
   "cell_type": "markdown",
   "source": [
    "# Variables\n",
    "\n",
    "`val` defines an immutable (i.e. read-only) variable that can be assigned a value only once:"
   ],
   "metadata": {
    "collapsed": false
   }
  },
  {
   "cell_type": "code",
   "outputs": [],
   "source": [
    "val name = \"Dan\""
   ],
   "metadata": {
    "collapsed": false
   },
   "execution_count": null
  },
  {
   "cell_type": "markdown",
   "source": [
    "Attempting to redefine a `val` results in a `val cannot be reassigned` error:"
   ],
   "metadata": {
    "collapsed": false
   }
  },
  {
   "cell_type": "code",
   "outputs": [],
   "source": [
    "name = \"Daniel\""
   ],
   "metadata": {
    "collapsed": false
   },
   "execution_count": null
  },
  {
   "cell_type": "markdown",
   "source": [
    "`var` defines a mutable variable that can be reassigned :"
   ],
   "metadata": {
    "collapsed": false
   }
  },
  {
   "cell_type": "code",
   "outputs": [],
   "source": [
    "var age = 45\n",
    "age = 46"
   ],
   "metadata": {
    "collapsed": false
   },
   "execution_count": null
  },
  {
   "cell_type": "markdown",
   "source": [
    "Trying to reassign it using a different type results in a `Type mismatch: inferred type is String but Int was expected` error:"
   ],
   "metadata": {
    "collapsed": false
   }
  },
  {
   "cell_type": "code",
   "outputs": [],
   "source": [
    "age = \"forty five\""
   ],
   "metadata": {
    "collapsed": false
   },
   "execution_count": null
  },
  {
   "cell_type": "markdown",
   "source": [
    "# Classes\n",
    "\n",
    "Classes are defined using the `class` keyword; parenthesis are optional:"
   ],
   "metadata": {
    "collapsed": false
   }
  },
  {
   "cell_type": "code",
   "outputs": [],
   "source": [
    "class Shape"
   ],
   "metadata": {
    "collapsed": false
   },
   "execution_count": null
  },
  {
   "cell_type": "markdown",
   "source": [
    "# Properties\n",
    "\n",
    "Properties can be defined in its declaration, with keyword, name and types; curly brackets containing the class body are optional:"
   ],
   "metadata": {
    "collapsed": false
   }
  },
  {
   "cell_type": "code",
   "outputs": [],
   "source": [
    "class Shape(val height: Double, val length: Double)"
   ],
   "metadata": {
    "collapsed": false
   },
   "execution_count": null
  },
  {
   "cell_type": "markdown",
   "source": [
    "When parameters are defined in the class definition, there is no need to define a constructor since it is available automatically\n"
   ],
   "metadata": {
    "collapsed": false
   }
  },
  {
   "cell_type": "code",
   "outputs": [],
   "source": [
    "val rectangle = Shape(5.0, 10.0)\n",
    "println(rectangle.height)\n",
    "println(rectangle.length)"
   ],
   "metadata": {
    "collapsed": false
   },
   "execution_count": null
  },
  {
   "cell_type": "markdown",
   "source": [
    "Omitting a variable type will result in a `Parameters must have the type annotation` error:"
   ],
   "metadata": {
    "collapsed": false
   }
  },
  {
   "cell_type": "code",
   "outputs": [],
   "source": [
    "class Shape(val height, val length: Double)"
   ],
   "metadata": {
    "collapsed": false
   },
   "execution_count": null
  },
  {
   "cell_type": "markdown",
   "source": [
    "However, the variable keywords are optional:"
   ],
   "metadata": {
    "collapsed": false
   }
  },
  {
   "cell_type": "code",
   "outputs": [],
   "source": [
    "class Shape(height: Double, val length: Double)"
   ],
   "metadata": {
    "collapsed": false
   },
   "execution_count": null
  },
  {
   "cell_type": "markdown",
   "source": [
    "When a variable keyword is used in the class definition the variable can be accessed within the class, whereas variables without a keyword cannot.  This is why the following class definition results in `Parameter 'height' is never used` and `Unresolved reference: height` errors:"
   ],
   "metadata": {
    "collapsed": false
   }
  },
  {
   "cell_type": "code",
   "outputs": [],
   "source": [
    "class Shape(height: Double, val length: Double) {\n",
    "    fun getlength() = length\n",
    "    fun getHeight() = height\n",
    "}"
   ],
   "metadata": {
    "collapsed": false
   },
   "execution_count": null
  },
  {
   "cell_type": "markdown",
   "source": [
    "However the property can be acessed in the class body:"
   ],
   "metadata": {
    "collapsed": false
   }
  },
  {
   "cell_type": "code",
   "outputs": [],
   "source": [
    "class Shape(height: Double, val length: Double) {\n",
    "    val anotherLength = length\n",
    "    val anotherHeight = height\n",
    "}\n",
    "val shape = Shape(5.0, 10.0)\n",
    "println(shape.anotherLength)\n",
    "println(shape.anotherHeight)"
   ],
   "metadata": {
    "collapsed": false
   },
   "execution_count": null
  },
  {
   "cell_type": "markdown",
   "source": [
    "Or in a class init block like this:\n"
   ],
   "metadata": {
    "collapsed": false
   }
  },
  {
   "cell_type": "code",
   "outputs": [],
   "source": [
    "class Shape(height: Double, val length: Double) {\n",
    "    init {\n",
    "        println(height)\n",
    "    }\n",
    "}\n",
    "val shape = Shape(5.0, 10.0)"
   ],
   "metadata": {
    "collapsed": false
   },
   "execution_count": null
  },
  {
   "cell_type": "markdown",
   "source": [
    "## Classes are final by default"
   ],
   "metadata": {
    "collapsed": false
   }
  },
  {
   "cell_type": "markdown",
   "source": [],
   "metadata": {
    "collapsed": false
   }
  },
  {
   "cell_type": "markdown",
   "source": [
    "Classes are final by default and therefore there is no difference between the following definitions:"
   ],
   "metadata": {
    "collapsed": false
   }
  },
  {
   "cell_type": "code",
   "outputs": [],
   "source": [
    "class Shape\n",
    "final class Shape"
   ],
   "metadata": {
    "collapsed": false
   },
   "execution_count": null
  },
  {
   "cell_type": "code",
   "outputs": [],
   "source": [],
   "metadata": {
    "collapsed": false
   },
   "execution_count": null
  },
  {
   "cell_type": "markdown",
   "source": [
    "Final means they cannot be superclasses and other classes cannot inherit from them.  Attempting to inherite from final classes results in an `This type is final, so it cannot be inherited from` error. Inheritance is specified using a colon then the superclass name with parentheses."
   ],
   "metadata": {
    "collapsed": false
   }
  },
  {
   "cell_type": "code",
   "outputs": [],
   "source": [
    "class Rectangle: Shape()"
   ],
   "metadata": {
    "collapsed": false
   },
   "execution_count": null
  },
  {
   "cell_type": "markdown",
   "source": [
    "# Comments\n",
    "\n",
    "Comments start with // for a single line or /* ... */ for a multiple line (block) comment. "
   ],
   "metadata": {
    "collapsed": false
   }
  },
  {
   "cell_type": "code",
   "outputs": [],
   "source": [
    "// this is a comment\n",
    "/* this is\n",
    "another comment */"
   ],
   "metadata": {
    "collapsed": false
   },
   "execution_count": null
  },
  {
   "cell_type": "markdown",
   "source": [
    "# String Templates\n",
    "\n",
    "A string template is a small piece of code that is evaluated and can form part of a string, for example:"
   ],
   "metadata": {
    "collapsed": false
   }
  },
  {
   "cell_type": "code",
   "outputs": [],
   "source": [
    "val capital = \"London\"\n",
    "println(\"The capital of the United Kingdom is $capital.\")\n"
   ],
   "metadata": {
    "collapsed": false
   },
   "execution_count": null
  },
  {
   "cell_type": "markdown",
   "source": [
    "Curly brackets are required if an expression is used:"
   ],
   "metadata": {
    "collapsed": false
   }
  },
  {
   "cell_type": "code",
   "outputs": [],
   "source": [
    "println(\"There are ${capital.length} letters in the word $capital.\")"
   ],
   "metadata": {
    "collapsed": false
   },
   "execution_count": null
  },
  {
   "cell_type": "markdown",
   "source": [
    "# String Escaping\n",
    "\n",
    "A backslash can be used to escape a double quote or backslash character:"
   ],
   "metadata": {
    "collapsed": false
   }
  },
  {
   "cell_type": "code",
   "outputs": [],
   "source": [
    "println(\"double quote: \\\" \\nbackslash: \\\\\")"
   ],
   "metadata": {
    "collapsed": false
   },
   "execution_count": null
  },
  {
   "cell_type": "markdown",
   "source": [
    "# Conditional Expressions\n",
    "\n",
    "`if` statements are created as follows: "
   ],
   "metadata": {
    "collapsed": false
   }
  },
  {
   "cell_type": "code",
   "outputs": [],
   "source": [
    "val a = 10\n",
    "val b = 1\n",
    "if (a > b) {\n",
    "    println(\"$a is bigger than $b\")\n",
    "} else {\n",
    "    println(\"$a is not bigger than $b\")\n",
    "}"
   ],
   "metadata": {
    "collapsed": false
   },
   "execution_count": null
  },
  {
   "cell_type": "markdown",
   "source": [
    "`if` statements can also be used directly in function expression statements:"
   ],
   "metadata": {
    "collapsed": false
   }
  },
  {
   "cell_type": "code",
   "outputs": [],
   "source": [
    "fun aBiggerThanB(a: Int, b: Int) = if (a > b) {\n",
    "    println(\"$a is bigger than $b\")\n",
    "} else {\n",
    "    println(\"$a is not bigger than $b\")\n",
    "}\n",
    "aBiggerThanB(10, 1)"
   ],
   "metadata": {
    "collapsed": false
   },
   "execution_count": null
  },
  {
   "cell_type": "markdown",
   "source": [
    "And also directly in an expression:"
   ],
   "metadata": {
    "collapsed": false
   }
  },
  {
   "cell_type": "code",
   "outputs": [],
   "source": [
    "val isABiggerThanB = if (a > b) \"$a is bigger than $b\" else \"$a is not bigger than $b\"\n",
    "println(isABiggerThanB)"
   ],
   "metadata": {
    "collapsed": false
   },
   "execution_count": null
  },
  {
   "cell_type": "markdown",
   "source": [
    "# For loops\n",
    "\n",
    "For loops in Kotlin are created with a condition in parentheses and the loop logic in curly brackets:"
   ],
   "metadata": {
    "collapsed": false
   }
  },
  {
   "cell_type": "code",
   "outputs": [],
   "source": [
    "val countries = listOf(\"UK\", \"Spain\", \"France\", \"Germany\")\n",
    "for (country in countries) {\n",
    "    println(country)    \n",
    "}"
   ],
   "metadata": {
    "collapsed": false
   },
   "execution_count": null
  },
  {
   "cell_type": "markdown",
   "source": [
    "This `for` can be expressed as a single line:"
   ],
   "metadata": {
    "collapsed": false
   }
  },
  {
   "cell_type": "code",
   "outputs": [],
   "source": [
    "for (country in countries) println(country)"
   ],
   "metadata": {
    "collapsed": false
   },
   "execution_count": null
  },
  {
   "cell_type": "markdown",
   "source": [
    "A for loop can loop through the indices:"
   ],
   "metadata": {
    "collapsed": false
   }
  },
  {
   "cell_type": "code",
   "outputs": [],
   "source": [
    "for (index in countries.indices) {\n",
    "    println(index)\n",
    "}"
   ],
   "metadata": {
    "collapsed": false
   },
   "execution_count": null
  },
  {
   "cell_type": "markdown",
   "source": [
    "# while loops\n",
    "\n",
    "While loops are defined as follows where the condition is in the parentheses and the loop content follows in curly brackets:\n"
   ],
   "metadata": {
    "collapsed": false
   }
  },
  {
   "cell_type": "code",
   "outputs": [],
   "source": [
    "var i = 0\n",
    "\n",
    "while (i < countries.size) {\n",
    "    println(countries[i])\n",
    "    i ++\n",
    "}"
   ],
   "metadata": {
    "collapsed": false
   },
   "execution_count": null
  },
  {
   "cell_type": "code",
   "outputs": [],
   "source": [
    "for (country in countries) {\n",
    "    when (country) {\n",
    "        \"UK\" -> println(\"Hello!\")\n",
    "        \"Spain\" -> println(\"Hola!\")\n",
    "        \"France\" -> println(\"Bonjour!\")\n",
    "        \"Germany\" -> println(\"Hallo!\")\n",
    "    }\n",
    "}"
   ],
   "metadata": {
    "collapsed": false
   },
   "execution_count": null
  },
  {
   "cell_type": "markdown",
   "source": [
    "# Ranges\n",
    "\n",
    "Range in Kotlin can be generated using `..`."
   ],
   "metadata": {
    "collapsed": false
   }
  },
  {
   "cell_type": "code",
   "outputs": [],
   "source": [
    "println(5 in 1..10)\n",
    "println(\"r\" in \"a\"..\"z\")"
   ],
   "metadata": {
    "collapsed": false
   },
   "execution_count": null
  },
  {
   "cell_type": "markdown",
   "source": [
    "`step` can be used to define a step:"
   ],
   "metadata": {
    "collapsed": false
   }
  },
  {
   "cell_type": "code",
   "outputs": [],
   "source": [
    "println(3 !in 0..10 step 2)"
   ],
   "metadata": {
    "collapsed": false
   },
   "execution_count": null
  },
  {
   "cell_type": "markdown",
   "source": [
    "`downTo` can be used to generate reducing ranges:"
   ],
   "metadata": {
    "collapsed": false
   }
  },
  {
   "cell_type": "code",
   "outputs": [],
   "source": [
    "println(4 !in 10 downTo -2 step 4)"
   ],
   "metadata": {
    "collapsed": false
   },
   "execution_count": null
  },
  {
   "cell_type": "markdown",
   "source": [
    "# Collections\n",
    "\n",
    "Looping through collections (a group of items):"
   ],
   "metadata": {
    "collapsed": false
   }
  },
  {
   "cell_type": "code",
   "outputs": [],
   "source": [
    "for (country in countries) println(country)"
   ],
   "metadata": {
    "collapsed": false
   },
   "execution_count": null
  },
  {
   "cell_type": "markdown",
   "source": [
    "Check if an item is in a collection:"
   ],
   "metadata": {
    "collapsed": false
   }
  },
  {
   "cell_type": "code",
   "outputs": [],
   "source": [
    "println(\"Iceland\" !in countries)"
   ],
   "metadata": {
    "collapsed": false
   },
   "execution_count": null
  },
  {
   "cell_type": "markdown",
   "source": [
    "Filter a collection:"
   ],
   "metadata": {
    "collapsed": false
   }
  },
  {
   "cell_type": "code",
   "outputs": [],
   "source": [
    "val countriesWithA = countries.filter({it.contains(\"a\")})\n",
    "println(countriesWithA)"
   ],
   "metadata": {
    "collapsed": false
   },
   "execution_count": null
  },
  {
   "cell_type": "markdown",
   "source": [
    "Apply a function to every element in the collection (using `map`):"
   ],
   "metadata": {
    "collapsed": false
   }
  },
  {
   "cell_type": "code",
   "outputs": [],
   "source": [
    "val uppercaseCountries = countries.map({it.uppercase()})\n",
    "println(uppercaseCountries)"
   ],
   "metadata": {
    "collapsed": false
   },
   "execution_count": null
  },
  {
   "cell_type": "code",
   "outputs": [],
   "source": [],
   "metadata": {
    "collapsed": false
   },
   "execution_count": null
  },
  {
   "cell_type": "markdown",
   "source": [
    "# Nullable Types\n",
    "\n",
    "Variables in Kotlin can be explicitly marked as being nullable using `?` after specifying the type:"
   ],
   "metadata": {
    "collapsed": false
   }
  },
  {
   "cell_type": "code",
   "outputs": [],
   "source": [
    "var canBeNull:String? = \"not null\"\n",
    "canBeNull = null"
   ],
   "metadata": {
    "collapsed": false
   },
   "execution_count": null
  },
  {
   "cell_type": "markdown",
   "source": [
    "# Type Checking and Automatic Casting\n",
    "\n",
    "After confirming an object type there is no need to cast an object to the type before calling a type specific method:"
   ],
   "metadata": {
    "collapsed": false
   }
  },
  {
   "cell_type": "code",
   "outputs": [],
   "source": [
    "if (name is String) {\n",
    "    println(name.length)\n",
    "}"
   ],
   "metadata": {
    "collapsed": false
   },
   "execution_count": null
  }
 ],
 "metadata": {
  "kernelspec": {
   "display_name": "Kotlin",
   "language": "kotlin",
   "name": "kotlin"
  },
  "language_info": {
   "name": "kotlin",
   "version": "1.9.0",
   "mimetype": "text/x-kotlin",
   "file_extension": ".kt",
   "pygments_lexer": "kotlin",
   "codemirror_mode": "text/x-kotlin",
   "nbconvert_exporter": ""
  }
 },
 "nbformat": 4,
 "nbformat_minor": 0
}
