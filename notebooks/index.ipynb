{
 "cells": [
  {
   "cell_type": "markdown",
   "source": [
    "# Hello\n",
    "\n",
    "This repo contains a [personal](https://www.linkedin.com/in/danphumphreys/) collection of Kotlin code.\n",
    "\n",
    "## Contents\n",
    "\n",
    "[Classes](./classes.html) "
   ],
   "metadata": {
    "collapsed": false
   }
  },
  {
   "cell_type": "markdown",
   "source": [
    "# Main Function\n",
    "\n",
    "The entry point to a program is the main function, however for Kotlin notebooks - and since they run as a Kotlin script - functions with any names will run in cells.  In a normal Kotlin project this function will run however in a Kotlin notebook it needs to be invoked."
   ],
   "metadata": {
    "collapsed": false
   }
  },
  {
   "cell_type": "code",
   "outputs": [
    {
     "name": "stdout",
     "output_type": "stream",
     "text": [
      "example of a main function\r\n"
     ]
    }
   ],
   "source": [
    "fun main() {\n",
    "    println(\"example of a main function\")\n",
    "}\n",
    "main()"
   ],
   "metadata": {
    "collapsed": false,
    "ExecuteTime": {
     "end_time": "2024-01-23T15:31:27.126297900Z",
     "start_time": "2024-01-23T15:31:26.818223200Z"
    }
   },
   "execution_count": 46
  },
  {
   "cell_type": "markdown",
   "source": [
    "# Functions\n",
    "\n",
    "Functions contain a function name, parenthesis, arguments and return type and followed by curly brackets in which the function body is contained.  Arguments are defined as `name: Type`."
   ],
   "metadata": {
    "collapsed": false
   }
  },
  {
   "cell_type": "code",
   "outputs": [
    {
     "name": "stdout",
     "output_type": "stream",
     "text": [
      "3\r\n"
     ]
    }
   ],
   "source": [
    "fun add(a: Int, b: Int): Int {\n",
    "    return a + b\n",
    "}\n",
    "println(add(1, 2))"
   ],
   "metadata": {
    "collapsed": false,
    "ExecuteTime": {
     "end_time": "2024-01-23T15:31:27.288184800Z",
     "start_time": "2024-01-23T15:31:27.111299800Z"
    }
   },
   "execution_count": 47
  },
  {
   "cell_type": "markdown",
   "source": [
    "Functions can be defined as expressions.  According to [Wikipedia](https://en.wikipedia.org/wiki/Expression_(computer_science)):\n",
    "\n",
    "_\"It is a combination of one or more constants, variables, functions, and operators that the programming language interprets (according to its particular rules of precedence and of association) and computes to produce (\"to return\", in a stateful environment) another value.\"_\n",
    "\n",
    "Therefore the `add` function can also be defined as:"
   ],
   "metadata": {
    "collapsed": false
   }
  },
  {
   "cell_type": "code",
   "outputs": [
    {
     "name": "stdout",
     "output_type": "stream",
     "text": [
      "3\r\n"
     ]
    }
   ],
   "source": [
    "fun add(a: Int, b: Int): Int = a + b\n",
    "println(add(1, 2))"
   ],
   "metadata": {
    "collapsed": false,
    "ExecuteTime": {
     "end_time": "2024-01-23T15:31:27.359224600Z",
     "start_time": "2024-01-23T15:31:27.198175500Z"
    }
   },
   "execution_count": 48
  },
  {
   "cell_type": "markdown",
   "source": [
    "It can be seen that `return` is not required and that the return type is also optional.  When the return type is not specified, it is [inferred](https://kotlinlang.org/spec/type-inference.html#function-signature-type-inference) by Kotlin."
   ],
   "metadata": {
    "collapsed": false
   }
  },
  {
   "cell_type": "code",
   "outputs": [
    {
     "name": "stdout",
     "output_type": "stream",
     "text": [
      "3\r\n"
     ]
    }
   ],
   "source": [
    "fun add(a: Int, b: Int) = a + b\n",
    "println(add(1, 2))"
   ],
   "metadata": {
    "collapsed": false,
    "ExecuteTime": {
     "end_time": "2024-01-23T15:31:27.424746600Z",
     "start_time": "2024-01-23T15:31:27.256178400Z"
    }
   },
   "execution_count": 49
  },
  {
   "cell_type": "markdown",
   "source": [
    "# Variables\n",
    "\n",
    "`val` defines an immutable (i.e. read-only) variable that can be assigned a value only once:"
   ],
   "metadata": {
    "collapsed": false
   }
  },
  {
   "cell_type": "code",
   "outputs": [],
   "source": [
    "val name = \"Dan\""
   ],
   "metadata": {
    "collapsed": false,
    "ExecuteTime": {
     "end_time": "2024-01-23T15:31:27.502281800Z",
     "start_time": "2024-01-23T15:31:27.335223200Z"
    }
   },
   "execution_count": 50
  },
  {
   "cell_type": "markdown",
   "source": [
    "Attempting to redefine a `val` results in a `val cannot be reassigned` error:"
   ],
   "metadata": {
    "collapsed": false
   }
  },
  {
   "cell_type": "code",
   "outputs": [
    {
     "name": "stderr",
     "output_type": "stream",
     "text": [
      "Line_51.jupyter.kts (1:1 - 5) Val cannot be reassigned"
     ]
    }
   ],
   "source": [
    "name = \"Daniel\""
   ],
   "metadata": {
    "collapsed": false,
    "ExecuteTime": {
     "end_time": "2024-01-23T15:31:27.536258600Z",
     "start_time": "2024-01-23T15:31:27.393742300Z"
    }
   },
   "execution_count": 51
  },
  {
   "cell_type": "markdown",
   "source": [
    "`var` defines a mutable variable that can be reassigned :"
   ],
   "metadata": {
    "collapsed": false
   }
  },
  {
   "cell_type": "code",
   "outputs": [],
   "source": [
    "var age = 45\n",
    "age = 46"
   ],
   "metadata": {
    "collapsed": false,
    "ExecuteTime": {
     "end_time": "2024-01-23T15:31:27.800965600Z",
     "start_time": "2024-01-23T15:31:27.524260200Z"
    }
   },
   "execution_count": 52
  },
  {
   "cell_type": "markdown",
   "source": [
    "Trying to reassign it using a different type results in a `Type mismatch: inferred type is String but Int was expected` error:"
   ],
   "metadata": {
    "collapsed": false
   }
  },
  {
   "cell_type": "code",
   "outputs": [
    {
     "name": "stderr",
     "output_type": "stream",
     "text": [
      "Line_53.jupyter.kts (1:7 - 19) Type mismatch: inferred type is String but Int was expected"
     ]
    }
   ],
   "source": [
    "age = \"forty five\""
   ],
   "metadata": {
    "collapsed": false,
    "ExecuteTime": {
     "end_time": "2024-01-23T15:31:27.839960500Z",
     "start_time": "2024-01-23T15:31:27.586267400Z"
    }
   },
   "execution_count": 53
  },
  {
   "cell_type": "markdown",
   "source": [
    "# Classes\n",
    "\n",
    "Classes are defined using the `class` keyword; parenthesis are optional:"
   ],
   "metadata": {
    "collapsed": false
   }
  },
  {
   "cell_type": "code",
   "outputs": [],
   "source": [
    "class Shape"
   ],
   "metadata": {
    "collapsed": false,
    "ExecuteTime": {
     "end_time": "2024-01-23T15:31:27.892879200Z",
     "start_time": "2024-01-23T15:31:27.801964Z"
    }
   },
   "execution_count": 54
  },
  {
   "cell_type": "markdown",
   "source": [
    "# Properties\n",
    "\n",
    "Properties can be defined in its declaration, with keyword, name and types; curly brackets containing the class body are optional:"
   ],
   "metadata": {
    "collapsed": false
   }
  },
  {
   "cell_type": "code",
   "outputs": [],
   "source": [
    "class Shape(val height: Double, val length: Double)"
   ],
   "metadata": {
    "collapsed": false,
    "ExecuteTime": {
     "end_time": "2024-01-23T15:31:27.986118Z",
     "start_time": "2024-01-23T15:31:27.863963Z"
    }
   },
   "execution_count": 55
  },
  {
   "cell_type": "markdown",
   "source": [
    "When parameters are defined in the class definition, there is no need to define a constructor since it is available automatically\n"
   ],
   "metadata": {
    "collapsed": false
   }
  },
  {
   "cell_type": "code",
   "outputs": [
    {
     "name": "stdout",
     "output_type": "stream",
     "text": [
      "5.0\r\n",
      "10.0\r\n"
     ]
    }
   ],
   "source": [
    "val rectangle = Shape(5.0, 10.0)\n",
    "println(rectangle.height)\n",
    "println(rectangle.length)"
   ],
   "metadata": {
    "collapsed": false,
    "ExecuteTime": {
     "end_time": "2024-01-23T15:31:28.076672500Z",
     "start_time": "2024-01-23T15:31:27.946107700Z"
    }
   },
   "execution_count": 56
  },
  {
   "cell_type": "markdown",
   "source": [
    "Omitting a variable type will result in a `Parameters must have the type annotation` error:"
   ],
   "metadata": {
    "collapsed": false
   }
  },
  {
   "cell_type": "code",
   "outputs": [
    {
     "name": "stderr",
     "output_type": "stream",
     "text": [
      "Line_57.jupyter.kts (1:23 - 23) Parameters must have type annotation"
     ]
    }
   ],
   "source": [
    "class Shape(val height, val length: Double)"
   ],
   "metadata": {
    "collapsed": false,
    "ExecuteTime": {
     "end_time": "2024-01-23T15:31:28.080958900Z",
     "start_time": "2024-01-23T15:31:28.044635800Z"
    }
   },
   "execution_count": 57
  },
  {
   "cell_type": "markdown",
   "source": [
    "However, the variable keywords are optional:"
   ],
   "metadata": {
    "collapsed": false
   }
  },
  {
   "cell_type": "code",
   "outputs": [],
   "source": [
    "class Shape(height: Double, val length: Double)"
   ],
   "metadata": {
    "collapsed": false,
    "ExecuteTime": {
     "end_time": "2024-01-23T15:31:28.224295600Z",
     "start_time": "2024-01-23T15:31:28.076672500Z"
    }
   },
   "execution_count": 58
  },
  {
   "cell_type": "markdown",
   "source": [
    "When a variable keyword is used in the class definition the variable can be accessed within the class, whereas variables without a keyword cannot.  This is why the following class definition results in `Parameter 'height' is never used` and `Unresolved reference: height` errors:"
   ],
   "metadata": {
    "collapsed": false
   }
  },
  {
   "cell_type": "code",
   "outputs": [
    {
     "name": "stderr",
     "output_type": "stream",
     "text": [
      "Line_59.jupyter.kts (1:13 - 19) Parameter 'height' is never used\n",
      "Line_59.jupyter.kts (3:23 - 29) Unresolved reference: height"
     ]
    }
   ],
   "source": [
    "class Shape(height: Double, val length: Double) {\n",
    "    fun getlength() = length\n",
    "    fun getHeight() = height\n",
    "}"
   ],
   "metadata": {
    "collapsed": false,
    "ExecuteTime": {
     "end_time": "2024-01-23T15:31:28.275299300Z",
     "start_time": "2024-01-23T15:31:28.182486700Z"
    }
   },
   "execution_count": 59
  },
  {
   "cell_type": "markdown",
   "source": [
    "However the property can be acessed in the class body:"
   ],
   "metadata": {
    "collapsed": false
   }
  },
  {
   "cell_type": "code",
   "outputs": [
    {
     "name": "stdout",
     "output_type": "stream",
     "text": [
      "10.0\r\n",
      "5.0\r\n"
     ]
    }
   ],
   "source": [
    "class Shape(height: Double, val length: Double) {\n",
    "    val anotherLength = length\n",
    "    val anotherHeight = height\n",
    "}\n",
    "val shape = Shape(5.0, 10.0)\n",
    "println(shape.anotherLength)\n",
    "println(shape.anotherHeight)"
   ],
   "metadata": {
    "collapsed": false,
    "ExecuteTime": {
     "end_time": "2024-01-23T15:31:28.373517800Z",
     "start_time": "2024-01-23T15:31:28.234304800Z"
    }
   },
   "execution_count": 60
  },
  {
   "cell_type": "markdown",
   "source": [
    "Or in a class init block like this:\n"
   ],
   "metadata": {
    "collapsed": false
   }
  },
  {
   "cell_type": "code",
   "outputs": [
    {
     "name": "stdout",
     "output_type": "stream",
     "text": [
      "5.0\r\n"
     ]
    }
   ],
   "source": [
    "class Shape(height: Double, val length: Double) {\n",
    "    init {\n",
    "        println(height)\n",
    "    }\n",
    "}\n",
    "val shape = Shape(5.0, 10.0)"
   ],
   "metadata": {
    "collapsed": false,
    "ExecuteTime": {
     "end_time": "2024-01-23T15:31:28.525246100Z",
     "start_time": "2024-01-23T15:31:28.333517900Z"
    }
   },
   "execution_count": 61
  },
  {
   "cell_type": "markdown",
   "source": [
    "## Classes are final by default"
   ],
   "metadata": {
    "collapsed": false
   }
  },
  {
   "cell_type": "markdown",
   "source": [],
   "metadata": {
    "collapsed": false
   }
  },
  {
   "cell_type": "markdown",
   "source": [
    "Classes are final by default and therefore there is no difference between the following definitions:"
   ],
   "metadata": {
    "collapsed": false
   }
  },
  {
   "cell_type": "code",
   "outputs": [],
   "source": [
    "class Shape\n",
    "final class Shape"
   ],
   "metadata": {
    "collapsed": false,
    "ExecuteTime": {
     "end_time": "2024-01-23T15:31:28.609519700Z",
     "start_time": "2024-01-23T15:31:28.402559800Z"
    }
   },
   "execution_count": 62
  },
  {
   "cell_type": "code",
   "outputs": [],
   "source": [],
   "metadata": {
    "collapsed": false,
    "ExecuteTime": {
     "end_time": "2024-01-23T15:31:28.630835300Z",
     "start_time": "2024-01-23T15:31:28.450091300Z"
    }
   },
   "execution_count": 63
  },
  {
   "cell_type": "markdown",
   "source": [
    "Final means they cannot be superclasses and other classes cannot inherit from them.  Attempting to inherite from final classes results in an `This type is final, so it cannot be inherited from` error. Inheritance is specified using a colon then the superclass name with parentheses."
   ],
   "metadata": {
    "collapsed": false
   }
  },
  {
   "cell_type": "code",
   "outputs": [
    {
     "name": "stderr",
     "output_type": "stream",
     "text": [
      "Line_63.jupyter.kts (1:18 - 23) This type is final, so it cannot be inherited from"
     ]
    }
   ],
   "source": [
    "class Rectangle: Shape()"
   ],
   "metadata": {
    "collapsed": false,
    "ExecuteTime": {
     "end_time": "2024-01-23T15:31:28.661186600Z",
     "start_time": "2024-01-23T15:31:28.490718100Z"
    }
   },
   "execution_count": 64
  },
  {
   "cell_type": "markdown",
   "source": [
    "# Comments\n",
    "\n",
    "Comments start with // for a single line or /* ... */ for a multiple line (block) comment. "
   ],
   "metadata": {
    "collapsed": false
   }
  },
  {
   "cell_type": "code",
   "outputs": [],
   "source": [
    "// this is a comment\n",
    "/* this is\n",
    "another comment */"
   ],
   "metadata": {
    "collapsed": false,
    "ExecuteTime": {
     "end_time": "2024-01-23T15:31:28.876193100Z",
     "start_time": "2024-01-23T15:31:28.655186700Z"
    }
   },
   "execution_count": 65
  },
  {
   "cell_type": "markdown",
   "source": [
    "# String Templates\n",
    "\n",
    "A string template is a small piece of code that is evaluated and can form part of a string, for example:"
   ],
   "metadata": {
    "collapsed": false
   }
  },
  {
   "cell_type": "code",
   "outputs": [
    {
     "name": "stdout",
     "output_type": "stream",
     "text": [
      "The capital of the United Kingdom is London.\r\n"
     ]
    }
   ],
   "source": [
    "val capital = \"London\"\n",
    "println(\"The capital of the United Kingdom is $capital.\")\n"
   ],
   "metadata": {
    "collapsed": false,
    "ExecuteTime": {
     "end_time": "2024-01-23T15:31:29.060643500Z",
     "start_time": "2024-01-23T15:31:28.816582500Z"
    }
   },
   "execution_count": 66
  },
  {
   "cell_type": "markdown",
   "source": [
    "Curly brackets are required if an expression is used:"
   ],
   "metadata": {
    "collapsed": false
   }
  },
  {
   "cell_type": "code",
   "outputs": [
    {
     "name": "stdout",
     "output_type": "stream",
     "text": [
      "There are 6 letters in the word London.\r\n"
     ]
    }
   ],
   "source": [
    "println(\"There are ${capital.length} letters in the word $capital.\")"
   ],
   "metadata": {
    "collapsed": false,
    "ExecuteTime": {
     "end_time": "2024-01-23T15:31:29.160576700Z",
     "start_time": "2024-01-23T15:31:28.927736900Z"
    }
   },
   "execution_count": 67
  },
  {
   "cell_type": "markdown",
   "source": [
    "# String Escaping\n",
    "\n",
    "A backslash can be used to escape a double quote or backslash character:"
   ],
   "metadata": {
    "collapsed": false
   }
  },
  {
   "cell_type": "code",
   "outputs": [
    {
     "name": "stdout",
     "output_type": "stream",
     "text": [
      "double quote: \" \n",
      "backslash: \\\r\n"
     ]
    }
   ],
   "source": [
    "println(\"double quote: \\\" \\nbackslash: \\\\\")"
   ],
   "metadata": {
    "collapsed": false,
    "ExecuteTime": {
     "end_time": "2024-01-23T15:31:29.234951400Z",
     "start_time": "2024-01-23T15:31:29.051656Z"
    }
   },
   "execution_count": 68
  },
  {
   "cell_type": "markdown",
   "source": [
    "# String Formatting"
   ],
   "metadata": {
    "collapsed": false
   }
  },
  {
   "cell_type": "code",
   "outputs": [],
   "source": [],
   "metadata": {
    "collapsed": false,
    "ExecuteTime": {
     "end_time": "2024-01-23T15:31:29.358053Z",
     "start_time": "2024-01-23T15:31:29.213957600Z"
    }
   },
   "execution_count": 69
  },
  {
   "cell_type": "code",
   "outputs": [],
   "source": [],
   "metadata": {
    "collapsed": false,
    "ExecuteTime": {
     "end_time": "2024-01-23T15:31:29.401835200Z",
     "start_time": "2024-01-23T15:31:29.340867400Z"
    }
   },
   "execution_count": 70
  },
  {
   "cell_type": "code",
   "outputs": [],
   "source": [],
   "metadata": {
    "collapsed": false,
    "ExecuteTime": {
     "end_time": "2024-01-23T15:31:29.453201100Z",
     "start_time": "2024-01-23T15:31:29.387315900Z"
    }
   },
   "execution_count": 71
  },
  {
   "cell_type": "code",
   "outputs": [],
   "source": [],
   "metadata": {
    "collapsed": false,
    "ExecuteTime": {
     "end_time": "2024-01-23T15:31:29.488584900Z",
     "start_time": "2024-01-23T15:31:29.449201100Z"
    }
   },
   "execution_count": 72
  },
  {
   "cell_type": "code",
   "outputs": [],
   "source": [],
   "metadata": {
    "collapsed": false,
    "ExecuteTime": {
     "end_time": "2024-01-23T15:31:29.538975200Z",
     "start_time": "2024-01-23T15:31:29.472249Z"
    }
   },
   "execution_count": 73
  },
  {
   "cell_type": "code",
   "outputs": [],
   "source": [],
   "metadata": {
    "collapsed": false,
    "ExecuteTime": {
     "end_time": "2024-01-23T15:31:29.604515400Z",
     "start_time": "2024-01-23T15:31:29.537973900Z"
    }
   },
   "execution_count": 74
  },
  {
   "cell_type": "code",
   "outputs": [],
   "source": [],
   "metadata": {
    "collapsed": false,
    "ExecuteTime": {
     "end_time": "2024-01-23T15:31:29.650783800Z",
     "start_time": "2024-01-23T15:31:29.591506400Z"
    }
   },
   "execution_count": 75
  },
  {
   "cell_type": "code",
   "outputs": [],
   "source": [],
   "metadata": {
    "collapsed": false,
    "ExecuteTime": {
     "end_time": "2024-01-23T15:31:29.677793800Z",
     "start_time": "2024-01-23T15:31:29.649778200Z"
    }
   },
   "execution_count": 76
  },
  {
   "cell_type": "markdown",
   "source": [
    "Look at sealed interfaces"
   ],
   "metadata": {
    "collapsed": false
   }
  },
  {
   "cell_type": "code",
   "outputs": [
    {
     "name": "stderr",
     "output_type": "stream",
     "text": [
      "Line_68.jupyter.kts (1:11 - 11) Name expected\n",
      "Line_68.jupyter.kts (1:19 - 22) Parameters must have type annotation\n",
      "Line_68.jupyter.kts (1:22 - 22) Expecting comma or ')'\n",
      "Line_68.jupyter.kts (1:29 - 29) Parameters must have type annotation"
     ]
    }
   ],
   "source": [
    "Pair class (first and second)"
   ],
   "metadata": {
    "collapsed": false,
    "ExecuteTime": {
     "end_time": "2024-01-23T15:31:29.733742600Z",
     "start_time": "2024-01-23T15:31:29.673776400Z"
    }
   },
   "execution_count": 77
  },
  {
   "cell_type": "markdown",
   "source": [
    "Comparable interface and operators"
   ],
   "metadata": {
    "collapsed": false
   }
  },
  {
   "cell_type": "markdown",
   "source": [
    "Object expressions."
   ],
   "metadata": {
    "collapsed": false
   }
  },
  {
   "cell_type": "code",
   "outputs": [
    {
     "name": "stderr",
     "output_type": "stream",
     "text": [
      "Line_69.jupyter.kts (2:9 - 17) Interface Iterator does not have constructors"
     ]
    }
   ],
   "source": [
    "val countries = listOf(\"UK\", \"USA\", \"Spain\", \"France\")\n",
    "println(Iterator(countries).hasNext())"
   ],
   "metadata": {
    "collapsed": false,
    "ExecuteTime": {
     "start_time": "2024-01-23T15:31:29.719743600Z"
    }
   },
   "execution_count": 78
  },
  {
   "cell_type": "markdown",
   "source": [
    "Operator functions"
   ],
   "metadata": {
    "collapsed": false
   }
  },
  {
   "cell_type": "code",
   "outputs": [],
   "source": [],
   "metadata": {
    "collapsed": false,
    "ExecuteTime": {
     "end_time": "2024-01-23T15:31:29.867071600Z",
     "start_time": "2024-01-23T15:31:29.813348500Z"
    }
   },
   "execution_count": 79
  }
 ],
 "metadata": {
  "kernelspec": {
   "display_name": "Kotlin",
   "language": "kotlin",
   "name": "kotlin"
  },
  "language_info": {
   "name": "kotlin",
   "version": "1.9.0",
   "mimetype": "text/x-kotlin",
   "file_extension": ".kt",
   "pygments_lexer": "kotlin",
   "codemirror_mode": "text/x-kotlin",
   "nbconvert_exporter": ""
  }
 },
 "nbformat": 4,
 "nbformat_minor": 0
}
